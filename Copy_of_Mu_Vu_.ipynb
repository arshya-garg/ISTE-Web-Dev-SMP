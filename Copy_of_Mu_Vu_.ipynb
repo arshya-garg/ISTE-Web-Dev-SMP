{
  "cells": [
    {
      "cell_type": "markdown",
      "metadata": {
        "id": "view-in-github",
        "colab_type": "text"
      },
      "source": [
        "<a href=\"https://colab.research.google.com/github/arshya-garg/ISTE-Web-Dev-SMP/blob/main/Copy_of_Mu_Vu_.ipynb\" target=\"_parent\"><img src=\"https://colab.research.google.com/assets/colab-badge.svg\" alt=\"Open In Colab\"/></a>"
      ]
    },
    {
      "cell_type": "markdown",
      "metadata": {
        "id": "H5-hh59BWXw3"
      },
      "source": [
        "#Basic Declaration and Datatypes"
      ]
    },
    {
      "cell_type": "code",
      "execution_count": null,
      "metadata": {
        "colab": {
          "base_uri": "https://localhost:8080/",
          "height": 131
        },
        "id": "CNbEAoGvZ-93",
        "outputId": "4beaa4c2-2bcc-4191-c0d9-51d6b73afa69"
      },
      "outputs": [
        {
          "output_type": "error",
          "ename": "SyntaxError",
          "evalue": "ignored",
          "traceback": [
            "\u001b[0;36m  File \u001b[0;32m\"<ipython-input-2-b9d3798fea4c>\"\u001b[0;36m, line \u001b[0;32m4\u001b[0m\n\u001b[0;31m    print(p) IIIT the TT TT ty to the time TT to get the\u001b[0m\n\u001b[0m                ^\u001b[0m\n\u001b[0;31mSyntaxError\u001b[0m\u001b[0;31m:\u001b[0m invalid syntax\n"
          ]
        }
      ],
      "source": [
        " lock and keya=5  \n",
        "p=6 # NOTE: WHEN EXECUTED, IT MUST RISE INDENDATION ERROR!\n",
        "print(a)\n",
        "print(p) IIIT the TT TT ty to the time TT to get the"
      ]
    },
    {
      "cell_type": "code",
      "execution_count": null,
      "metadata": {
        "colab": {
          "base_uri": "https://localhost:8080/",
          "height": 131
        },
        "id": "R4U2kq-JQkYG",
        "outputId": "7bb3f788-61ac-4553-dadc-4aceacd3a28d"
      },
      "outputs": [
        {
          "output_type": "error",
          "ename": "SyntaxError",
          "evalue": "ignored",
          "traceback": [
            "\u001b[0;36m  File \u001b[0;32m\"<ipython-input-3-d3c78bc28166>\"\u001b[0;36m, line \u001b[0;32m9\u001b[0m\n\u001b[0;31m    print(s)(+_+):'(\u001b[0m\n\u001b[0m                ^\u001b[0m\n\u001b[0;31mSyntaxError\u001b[0m\u001b[0;31m:\u001b[0m invalid syntax\n"
          ]
        }
      ],
      "source": [
        "a = 3  # int\n",
        "b = 5.6  # float\n",
        "s = 'ISTE2022'  # str\n",
        "x,y,z = 1,2.5,'3'   # multiple assignment\n",
        "imagine=5+7j\n",
        "null=NoneYe\n",
        "print(a)\n",
        "print(b)\n",
        "print(s)(+_+):'(\n",
        "print(x,type(x))\n",
        "print(y,type(y))e,iu ii\n",
        "print(z,type(z))\n",
        "print(imagine,type(imagine))\n",
        "print(null,typ ohh cc f d f in n zx cg  y  d⚽⚽😞😞👍🔵🎉🎉🎉🎉🙏🏼😁😁😋🤗🤗🤗🤗🤗🤗😔🤗🤗🤗🤗🤗🤗😔🤗💀😚😁❤️😁❤️😁❤️😁🥲😁🥲😁❤️😁💀❤️🚬😁🥺🔵👍e(null))"
      ]
    },
    {
      "cell_type": "code",
      "execution_count": null,
      "metadata": {
        "id": "fGyesqWk4kK0"
      },
      "outputs": [],
      "source": [
        ""
      ]
    },
    {
      "cell_type": "code",
      "execution_count": null,
      "metadata": {
        "id": "sNyej3bQMsSy"
      },
      "outputs": [],
      "source": [
        ""
      ]
    },
    {
      "cell_type": "markdown",
      "metadata": {
        "id": "3sU2KAsYasDf"
      },
      "source": [
        "Naming rules\n",
        "*   Variables can only contain letters, numbers, and underscores. Variable names can start with a letter or an underscore, but can not start with a number.**Special symbols ($#% etc) are not allowed**\n",
        "*   Spaces are not allowed in variable names, so we use underscores instead of spaces. For example, use student_name instead of \"student name\".\n",
        "* You cannot use Python keywords as variable names.\n",
        "--------------------------------------------------------------------------------\n",
        "\n"
      ]
    },
    {
      "cell_type": "code",
      "source": [
        ""
      ],
      "metadata": {
        "id": "FGA--DsDx7_F"
      },
      "execution_count": null,
      "outputs": []
    },
    {
      "cell_type": "markdown",
      "metadata": {
        "id": "TO7fCx_sdRUW"
      },
      "source": [
        "#Basic i/p o/p"
      ]
    },
    {
      "cell_type": "code",
      "execution_count": null,
      "metadata": {
        "colab": {
          "base_uri": "https://localhost:8080/",
          "height": 253
        },
        "id": "nSRAs-2UXt8G",
        "outputId": "a5670ef5-5ce7-480b-dfec-77dadd87a6f4"
      },
      "outputs": [
        {
          "output_type": "error",
          "ename": "NameError",
          "evalue": "ignored",
          "traceback": [
            "\u001b[0;31m---------------------------------------------------------------------------\u001b[0m",
            "\u001b[0;31mNameError\u001b[0m                                 Traceback (most recent call last)",
            "\u001b[0;32m<ipython-input-4-5c6cbd07ddf0>\u001b[0m in \u001b[0;36m<module>\u001b[0;34m()\u001b[0m\n\u001b[0;32m----> 1\u001b[0;31m \u001b[0mprint\u001b[0m\u001b[0;34m(\u001b[0m\u001b[0;34m\"This is combined output\"\u001b[0m\u001b[0;34m,\u001b[0m\u001b[0ma\u001b[0m\u001b[0;34m,\u001b[0m\u001b[0mb\u001b[0m\u001b[0;34m)\u001b[0m\u001b[0;34m\u001b[0m\u001b[0;34m\u001b[0m\u001b[0m\n\u001b[0m\u001b[1;32m      2\u001b[0m \u001b[0mprint\u001b[0m\u001b[0;34m(\u001b[0m\u001b[0;34m\"This is also combined\"\u001b[0m\u001b[0;34m,\u001b[0m\u001b[0ma\u001b[0m\u001b[0;34m,\u001b[0m\u001b[0mb\u001b[0m\u001b[0;34m,\u001b[0m\u001b[0msep\u001b[0m\u001b[0;34m=\u001b[0m\u001b[0;34m\"##\"\u001b[0m\u001b[0;34m,\u001b[0m\u001b[0mend\u001b[0m\u001b[0;34m=\u001b[0m\u001b[0;34m'$$'\u001b[0m\u001b[0;34m)\u001b[0m \u001b[0;31m# Seperates it with ## and ends the output with $$ instead of new line character\u001b[0m\u001b[0;34m\u001b[0m\u001b[0;34m\u001b[0m\u001b[0m\n\u001b[1;32m      3\u001b[0m \u001b[0mprint\u001b[0m\u001b[0;34m(\u001b[0m\u001b[0;34m\"One more combined output\"\u001b[0m\u001b[0;34m,\u001b[0m\u001b[0ma\u001b[0m\u001b[0;34m,\u001b[0m\u001b[0mb\u001b[0m\u001b[0;34m,\u001b[0m\u001b[0msep\u001b[0m\u001b[0;34m=\u001b[0m\u001b[0;34m'%%'\u001b[0m\u001b[0;34m,\u001b[0m\u001b[0mend\u001b[0m\u001b[0;34m=\u001b[0m\u001b[0;34m'END'\u001b[0m\u001b[0;34m)\u001b[0m \u001b[0;31m# As Previous statement didnt end with new line character, It continues to print where it left\u001b[0m\u001b[0;34m\u001b[0m\u001b[0;34m\u001b[0m\u001b[0m\n\u001b[1;32m      4\u001b[0m \u001b[0mprint\u001b[0m\u001b[0;34m(\u001b[0m\u001b[0;34m)\u001b[0m \u001b[0;31m# Just to make sure next print statement prints on a new line\u001b[0m\u001b[0;34m\u001b[0m\u001b[0;34m\u001b[0m\u001b[0m\n\u001b[1;32m      5\u001b[0m \u001b[0mprint\u001b[0m\u001b[0;34m(\u001b[0m\u001b[0;36m5\u001b[0m\u001b[0;34m+\u001b[0m\u001b[0;36m3\u001b[0m\u001b[0;34m,\u001b[0m\u001b[0;36m6\u001b[0m\u001b[0;34m>\u001b[0m\u001b[0;36m3\u001b[0m\u001b[0;34m,\u001b[0m\u001b[0;34m'a'\u001b[0m\u001b[0;34m+\u001b[0m\u001b[0;34m'b'\u001b[0m\u001b[0;34m)\u001b[0m\u001b[0;34m\u001b[0m\u001b[0;34m\u001b[0m\u001b[0m\n",
            "\u001b[0;31mNameError\u001b[0m: name 'a' is not defined"
          ]
        }
      ],
      "source": [
        "print(\"This is combined output\",a,b)\n",
        "print(\"This is also combined\",a,b,sep=\"##\",end='$$') # Seperates it with ## and ends the output with $$ instead of new line character\n",
        "print(\"One more combined output\",a,b,sep='%%',end='END') # As Previous statement didnt end with new line character, It continues to print where it left\n",
        "print() # Just to make sure next print statement prints on a new line\n",
        "print(5+3,6>3,'a'+'b') \n",
        "print(3==2,5==2 or 7>3,not(5!=4))\n",
        "#relational operators: > ,<,<=,>=,==,!=\n",
        "#logical operators: and not or"
      ]
    },
    {
      "cell_type": "code",
      "execution_count": null,
      "metadata": {
        "id": "BmDpmpcWjyxY"
      },
      "outputs": [],
      "source": [
        ""
      ]
    },
    {
      "cell_type": "markdown",
      "metadata": {
        "id": "ZVh08Fy-jzLu"
      },
      "source": [
        ""
      ]
    },
    {
      "cell_type": "code",
      "execution_count": null,
      "metadata": {
        "colab": {
          "base_uri": "https://localhost:8080/",
          "height": 536
        },
        "id": "bcScojvuTZRt",
        "outputId": "07a3f983-9f5f-4eb5-b48f-e82b4b3a9ca7"
      },
      "outputs": [
        {
          "ename": "KeyboardInterrupt",
          "evalue": "ignored",
          "output_type": "error",
          "traceback": [
            "\u001b[0;31m---------------------------------------------------------------------------\u001b[0m",
            "\u001b[0;31mKeyboardInterrupt\u001b[0m                         Traceback (most recent call last)",
            "\u001b[0;32m/usr/local/lib/python3.7/dist-packages/ipykernel/kernelbase.py\u001b[0m in \u001b[0;36m_input_request\u001b[0;34m(self, prompt, ident, parent, password)\u001b[0m\n\u001b[1;32m    728\u001b[0m             \u001b[0;32mtry\u001b[0m\u001b[0;34m:\u001b[0m\u001b[0;34m\u001b[0m\u001b[0;34m\u001b[0m\u001b[0m\n\u001b[0;32m--> 729\u001b[0;31m                 \u001b[0mident\u001b[0m\u001b[0;34m,\u001b[0m \u001b[0mreply\u001b[0m \u001b[0;34m=\u001b[0m \u001b[0mself\u001b[0m\u001b[0;34m.\u001b[0m\u001b[0msession\u001b[0m\u001b[0;34m.\u001b[0m\u001b[0mrecv\u001b[0m\u001b[0;34m(\u001b[0m\u001b[0mself\u001b[0m\u001b[0;34m.\u001b[0m\u001b[0mstdin_socket\u001b[0m\u001b[0;34m,\u001b[0m \u001b[0;36m0\u001b[0m\u001b[0;34m)\u001b[0m\u001b[0;34m\u001b[0m\u001b[0;34m\u001b[0m\u001b[0m\n\u001b[0m\u001b[1;32m    730\u001b[0m             \u001b[0;32mexcept\u001b[0m \u001b[0mException\u001b[0m\u001b[0;34m:\u001b[0m\u001b[0;34m\u001b[0m\u001b[0;34m\u001b[0m\u001b[0m\n",
            "\u001b[0;32m/usr/local/lib/python3.7/dist-packages/jupyter_client/session.py\u001b[0m in \u001b[0;36mrecv\u001b[0;34m(self, socket, mode, content, copy)\u001b[0m\n\u001b[1;32m    802\u001b[0m         \u001b[0;32mtry\u001b[0m\u001b[0;34m:\u001b[0m\u001b[0;34m\u001b[0m\u001b[0;34m\u001b[0m\u001b[0m\n\u001b[0;32m--> 803\u001b[0;31m             \u001b[0mmsg_list\u001b[0m \u001b[0;34m=\u001b[0m \u001b[0msocket\u001b[0m\u001b[0;34m.\u001b[0m\u001b[0mrecv_multipart\u001b[0m\u001b[0;34m(\u001b[0m\u001b[0mmode\u001b[0m\u001b[0;34m,\u001b[0m \u001b[0mcopy\u001b[0m\u001b[0;34m=\u001b[0m\u001b[0mcopy\u001b[0m\u001b[0;34m)\u001b[0m\u001b[0;34m\u001b[0m\u001b[0;34m\u001b[0m\u001b[0m\n\u001b[0m\u001b[1;32m    804\u001b[0m         \u001b[0;32mexcept\u001b[0m \u001b[0mzmq\u001b[0m\u001b[0;34m.\u001b[0m\u001b[0mZMQError\u001b[0m \u001b[0;32mas\u001b[0m \u001b[0me\u001b[0m\u001b[0;34m:\u001b[0m\u001b[0;34m\u001b[0m\u001b[0;34m\u001b[0m\u001b[0m\n",
            "\u001b[0;32m/usr/local/lib/python3.7/dist-packages/zmq/sugar/socket.py\u001b[0m in \u001b[0;36mrecv_multipart\u001b[0;34m(self, flags, copy, track)\u001b[0m\n\u001b[1;32m    723\u001b[0m         \"\"\"\n\u001b[0;32m--> 724\u001b[0;31m         \u001b[0mparts\u001b[0m \u001b[0;34m=\u001b[0m \u001b[0;34m[\u001b[0m\u001b[0mself\u001b[0m\u001b[0;34m.\u001b[0m\u001b[0mrecv\u001b[0m\u001b[0;34m(\u001b[0m\u001b[0mflags\u001b[0m\u001b[0;34m,\u001b[0m \u001b[0mcopy\u001b[0m\u001b[0;34m=\u001b[0m\u001b[0mcopy\u001b[0m\u001b[0;34m,\u001b[0m \u001b[0mtrack\u001b[0m\u001b[0;34m=\u001b[0m\u001b[0mtrack\u001b[0m\u001b[0;34m)\u001b[0m\u001b[0;34m]\u001b[0m\u001b[0;34m\u001b[0m\u001b[0;34m\u001b[0m\u001b[0m\n\u001b[0m\u001b[1;32m    725\u001b[0m         \u001b[0;31m# have first part already, only loop while more to receive\u001b[0m\u001b[0;34m\u001b[0m\u001b[0;34m\u001b[0m\u001b[0;34m\u001b[0m\u001b[0m\n",
            "\u001b[0;32mzmq/backend/cython/socket.pyx\u001b[0m in \u001b[0;36mzmq.backend.cython.socket.Socket.recv\u001b[0;34m()\u001b[0m\n",
            "\u001b[0;32mzmq/backend/cython/socket.pyx\u001b[0m in \u001b[0;36mzmq.backend.cython.socket.Socket.recv\u001b[0;34m()\u001b[0m\n",
            "\u001b[0;32mzmq/backend/cython/socket.pyx\u001b[0m in \u001b[0;36mzmq.backend.cython.socket._recv_copy\u001b[0;34m()\u001b[0m\n",
            "\u001b[0;32m/usr/local/lib/python3.7/dist-packages/zmq/backend/cython/checkrc.pxd\u001b[0m in \u001b[0;36mzmq.backend.cython.checkrc._check_rc\u001b[0;34m()\u001b[0m\n",
            "\u001b[0;31mKeyboardInterrupt\u001b[0m: ",
            "\nDuring handling of the above exception, another exception occurred:\n",
            "\u001b[0;31mKeyboardInterrupt\u001b[0m                         Traceback (most recent call last)",
            "\u001b[0;32m<ipython-input-4-1a4a40cf4a75>\u001b[0m in \u001b[0;36m<module>\u001b[0;34m()\u001b[0m\n\u001b[0;32m----> 1\u001b[0;31m \u001b[0mmystring\u001b[0m\u001b[0;34m=\u001b[0m\u001b[0minput\u001b[0m\u001b[0;34m(\u001b[0m\u001b[0;34m\"Enter the input\"\u001b[0m\u001b[0;34m)\u001b[0m \u001b[0;31m#Enter integer value and check\u001b[0m\u001b[0;34m\u001b[0m\u001b[0;34m\u001b[0m\u001b[0m\n\u001b[0m\u001b[1;32m      2\u001b[0m \u001b[0mmystring\u001b[0m\u001b[0;34m=\u001b[0m\u001b[0mint\u001b[0m\u001b[0;34m(\u001b[0m\u001b[0mmystring\u001b[0m\u001b[0;34m)\u001b[0m\u001b[0;34m\u001b[0m\u001b[0;34m\u001b[0m\u001b[0m\n\u001b[1;32m      3\u001b[0m \u001b[0mprint\u001b[0m\u001b[0;34m(\u001b[0m\u001b[0mmystring\u001b[0m\u001b[0;34m,\u001b[0m\u001b[0mtype\u001b[0m\u001b[0;34m(\u001b[0m\u001b[0mmystring\u001b[0m\u001b[0;34m)\u001b[0m\u001b[0;34m)\u001b[0m\u001b[0;34m\u001b[0m\u001b[0;34m\u001b[0m\u001b[0m\n",
            "\u001b[0;32m/usr/local/lib/python3.7/dist-packages/ipykernel/kernelbase.py\u001b[0m in \u001b[0;36mraw_input\u001b[0;34m(self, prompt)\u001b[0m\n\u001b[1;32m    702\u001b[0m             \u001b[0mself\u001b[0m\u001b[0;34m.\u001b[0m\u001b[0m_parent_ident\u001b[0m\u001b[0;34m,\u001b[0m\u001b[0;34m\u001b[0m\u001b[0;34m\u001b[0m\u001b[0m\n\u001b[1;32m    703\u001b[0m             \u001b[0mself\u001b[0m\u001b[0;34m.\u001b[0m\u001b[0m_parent_header\u001b[0m\u001b[0;34m,\u001b[0m\u001b[0;34m\u001b[0m\u001b[0;34m\u001b[0m\u001b[0m\n\u001b[0;32m--> 704\u001b[0;31m             \u001b[0mpassword\u001b[0m\u001b[0;34m=\u001b[0m\u001b[0;32mFalse\u001b[0m\u001b[0;34m,\u001b[0m\u001b[0;34m\u001b[0m\u001b[0;34m\u001b[0m\u001b[0m\n\u001b[0m\u001b[1;32m    705\u001b[0m         )\n\u001b[1;32m    706\u001b[0m \u001b[0;34m\u001b[0m\u001b[0m\n",
            "\u001b[0;32m/usr/local/lib/python3.7/dist-packages/ipykernel/kernelbase.py\u001b[0m in \u001b[0;36m_input_request\u001b[0;34m(self, prompt, ident, parent, password)\u001b[0m\n\u001b[1;32m    732\u001b[0m             \u001b[0;32mexcept\u001b[0m \u001b[0mKeyboardInterrupt\u001b[0m\u001b[0;34m:\u001b[0m\u001b[0;34m\u001b[0m\u001b[0;34m\u001b[0m\u001b[0m\n\u001b[1;32m    733\u001b[0m                 \u001b[0;31m# re-raise KeyboardInterrupt, to truncate traceback\u001b[0m\u001b[0;34m\u001b[0m\u001b[0;34m\u001b[0m\u001b[0;34m\u001b[0m\u001b[0m\n\u001b[0;32m--> 734\u001b[0;31m                 \u001b[0;32mraise\u001b[0m \u001b[0mKeyboardInterrupt\u001b[0m\u001b[0;34m\u001b[0m\u001b[0;34m\u001b[0m\u001b[0m\n\u001b[0m\u001b[1;32m    735\u001b[0m             \u001b[0;32melse\u001b[0m\u001b[0;34m:\u001b[0m\u001b[0;34m\u001b[0m\u001b[0;34m\u001b[0m\u001b[0m\n\u001b[1;32m    736\u001b[0m                 \u001b[0;32mbreak\u001b[0m\u001b[0;34m\u001b[0m\u001b[0;34m\u001b[0m\u001b[0m\n",
            "\u001b[0;31mKeyboardInterrupt\u001b[0m: "
          ]
        }
      ],
      "source": [
        "mystring=input(\"Enter the input\") #Enter integer value and check\n",
        "mystring=int(mystring)\n",
        "print(mystring,type(mystring))"
      ]
    },
    {
      "cell_type": "markdown",
      "metadata": {
        "id": "7C8Qq9Z4j2q6"
      },
      "source": [
        "#Conditions:if,elif,else"
      ]
    },
    {
      "cell_type": "code",
      "execution_count": null,
      "metadata": {
        "colab": {
          "base_uri": "https://localhost:8080/"
        },
        "id": "UqKldn1vj1o3",
        "outputId": "1d54d7f3-8325-4ff8-dda2-a9b530e35494"
      },
      "outputs": [
        {
          "name": "stdout",
          "output_type": "stream",
          "text": [
            "11\n"
          ]
        }
      ],
      "source": [
        "a = 5\n",
        "  a=a+6   # Statements\n",
        "print(a)"
      ]
    },
    {
      "cell_type": "code",
      "execution_count": null,
      "metadata": {
        "colab": {
          "base_uri": "https://localhost:8080/"
        },
        "id": "6ZeSPjTrkFkw",
        "outputId": "5ced537d-cf5e-4a46-941e-0af5a3945f60"
      },
      "outputs": [
        {
          "name": "stdout",
          "output_type": "stream",
          "text": [
            "4  = 4\n"
          ]
        }
      ],
      "source": [
        "a = 4\n",
        "if a>4:\n",
        "  print(a,\" > 4\")\n",
        "elif a<4:   # Else if condition:\n",
        "  print(a,\" < 4\")\n",
        "else:\n",
        "  print(a,\" = 4\")"
      ]
    },
    {
      "cell_type": "code",
      "execution_count": null,
      "metadata": {
        "colab": {
          "base_uri": "https://localhost:8080/"
        },
        "id": "ZkbLSymhkFp_",
        "outputId": "89650ec2-623c-4b82-f69d-5a71c6bc7377"
      },
      "outputs": [
        {
          "name": "stdout",
          "output_type": "stream",
          "text": [
            "4  greater than 3 and less than 7\n"
          ]
        }
      ],
      "source": [
        "if a>3:    # Note indentation\n",
        "  if a<7:\n",
        "        print(a,\" greater than 3 and less than 7\")\n",
        "  else:\n",
        "        print(a,\"greater than 3 but not less than 7\")\n",
        "else:\n",
        "    print(\"hello\")"
      ]
    },
    {
      "cell_type": "markdown",
      "metadata": {
        "id": "QbLMzPTQlT5Z"
      },
      "source": [
        "#Loops:For,while"
      ]
    },
    {
      "cell_type": "code",
      "execution_count": null,
      "metadata": {
        "colab": {
          "base_uri": "https://localhost:8080/"
        },
        "id": "q4ZlOWiIklkA",
        "outputId": "c271bf85-fbdc-4f68-91a5-31e47d0d4211"
      },
      "outputs": [
        {
          "name": "stdout",
          "output_type": "stream",
          "text": [
            "1\n",
            "2\n",
            "3\n",
            "4\n",
            "5\n",
            "------------------------\n",
            "1\n",
            "3\n",
            "5\n",
            "------------------------\n",
            "5\n",
            "4\n",
            "3\n",
            "2\n",
            "1\n",
            "0\n",
            "------------------------\n",
            "0\n",
            "1\n",
            "2\n",
            "3\n",
            "4\n",
            "5\n"
          ]
        }
      ],
      "source": [
        "#loop\n",
        "# for loop\n",
        "#syntax\n",
        "#for x in range(start,end+1)\n",
        "#lets print number from 1 to 5\n",
        "for x in range(1,6):\n",
        "  print(x)\n",
        "#lower bound is always included***\n",
        "#upper bound is always excluded\n",
        "\n",
        "print(\"------------------------\")\n",
        "# #increment the number by 2\n",
        "for x in range(1,6,2):\n",
        "  print(x)\n",
        "print(\"------------------------\")\n",
        "# print number from 5 to 0\n",
        "for x in range(5,-1,-1):\n",
        "  print(x)\n",
        "print(\"------------------------\")\n",
        "# # what if only upper bound is given \n",
        "for x in range(6):\n",
        "  print(x)"
      ]
    },
    {
      "cell_type": "code",
      "execution_count": null,
      "metadata": {
        "colab": {
          "base_uri": "https://localhost:8080/"
        },
        "id": "92oUuhTnklsw",
        "outputId": "444e4019-8a47-4471-bf3c-8d9af71f9009"
      },
      "outputs": [
        {
          "name": "stdout",
          "output_type": "stream",
          "text": [
            "2\n",
            "3\n",
            "4\n",
            "y =  6\n"
          ]
        }
      ],
      "source": [
        "# continue statement \n",
        "# SKips remaining statements and goes to next iteration\n",
        "y=0\n",
        "for x in range(1,5):\n",
        "\tif x==1:\n",
        "\t\tcontinue\n",
        "\tprint(x)\n",
        "\ty=y+2\n",
        "print(\"y = \",y)"
      ]
    },
    {
      "cell_type": "code",
      "execution_count": null,
      "metadata": {
        "colab": {
          "base_uri": "https://localhost:8080/"
        },
        "id": "tVfX-oJsDiEu",
        "outputId": "2db54c9e-104d-4677-803c-6857799bb4bf"
      },
      "outputs": [
        {
          "name": "stdout",
          "output_type": "stream",
          "text": [
            "1\n",
            "2\n",
            "y =  2\n"
          ]
        }
      ],
      "source": [
        "# break statement\n",
        "# Exits the loops\n",
        "y=0\n",
        "for x in range(1,5):\n",
        "\tif x==3:\n",
        "\t\tbreak\n",
        "\tprint(x)\n",
        "\ty=y+1\n",
        "print(\"y = \",y)"
      ]
    },
    {
      "cell_type": "code",
      "execution_count": null,
      "metadata": {
        "colab": {
          "base_uri": "https://localhost:8080/"
        },
        "id": "Qby15InvD19D",
        "outputId": "6f64b180-0a67-44d2-b87f-164f97e55d88"
      },
      "outputs": [
        {
          "name": "stdout",
          "output_type": "stream",
          "text": [
            "2\n",
            "3\n",
            "4\n",
            "5\n"
          ]
        }
      ],
      "source": [
        "# while loop\n",
        "# syntax\n",
        "# while(condition):\n",
        "#print number from 1 to 5\n",
        "x=2\n",
        "while x<=5:\n",
        "    print(x)\n",
        "    x=x+1"
      ]
    },
    {
      "cell_type": "code",
      "execution_count": null,
      "metadata": {
        "colab": {
          "base_uri": "https://localhost:8080/"
        },
        "id": "IdgPfcZcD8A9",
        "outputId": "4ba2869a-2aeb-47d5-aee4-ab2267124fc9"
      },
      "outputs": [
        {
          "name": "stdout",
          "output_type": "stream",
          "text": [
            "2\n",
            "3\n",
            "4\n",
            "5\n",
            "--------------------\n",
            "1\n",
            "2\n"
          ]
        }
      ],
      "source": [
        "#continue statement in while\n",
        "x=1\n",
        "while x<=5:\n",
        "  if x==1:\n",
        "    x=x+1\n",
        "    continue\n",
        "    \n",
        "  print(x)\n",
        "  x=x+1\n",
        "print(\"--------------------\")\n",
        "#break statement in while\n",
        "x=1\n",
        "while x<=5:\n",
        "  if x==3:\n",
        "    break\n",
        "  print(x)\n",
        "  x=x+1"
      ]
    },
    {
      "cell_type": "markdown",
      "metadata": {
        "id": "BvytjSDjduhr"
      },
      "source": [
        "#Lists,Sets and Tuples"
      ]
    },
    {
      "cell_type": "code",
      "execution_count": null,
      "metadata": {
        "colab": {
          "base_uri": "https://localhost:8080/"
        },
        "id": "zjvD8yeNUzzh",
        "outputId": "44f1fc59-b021-415e-868c-0182319ca7aa"
      },
      "outputs": [
        {
          "name": "stdout",
          "output_type": "stream",
          "text": [
            "[5, 6, 7]\n",
            "[4.5, 'SGP2021']\n",
            "<class 'list'>\n",
            "[]\n",
            "[1, 2, 3, 4, 5, 6, 7, 8, 9]\n"
          ]
        }
      ],
      "source": [
        "a=[5,6,7]\n",
        "b=[4.5,'SGP2021']\n",
        "\n",
        "mt=[]\n",
        "c=list()\n",
        "# d=range(10)\n",
        "# print(d,type(d))\n",
        "d=list(range(1,10,1)) #range(a, b,c) generates a range of numbers from a to b-1 with step size of c\n",
        "print(a,b,type(b),c,d,sep='\\n')"
      ]
    },
    {
      "cell_type": "code",
      "execution_count": null,
      "metadata": {
        "colab": {
          "base_uri": "https://localhost:8080/"
        },
        "id": "baAY4WnoV2ej",
        "outputId": "b90be33e-688f-41af-b752-2cc9413bcc46"
      },
      "outputs": [
        {
          "name": "stdout",
          "output_type": "stream",
          "text": [
            "[0, 0, 0, 0, 0]\n",
            "[[2, 3, 4], [7, 6, 8], [8, 9]]\n"
          ]
        }
      ],
      "source": [
        "a=[0]*5 # List a with five 0's\n",
        "print(a)\n",
        "b=[[2,3,4],[7,6,8],[8,9]] # List of Lists (Analogy for Matrix)\n",
        "print(b)"
      ]
    },
    {
      "cell_type": "code",
      "execution_count": null,
      "metadata": {
        "colab": {
          "base_uri": "https://localhost:8080/"
        },
        "id": "L5woWcUltJ0L",
        "outputId": "af5b27c5-e840-448e-9ab5-6ce2c2bf0365"
      },
      "outputs": [
        {
          "name": "stdout",
          "output_type": "stream",
          "text": [
            "[1, 2, 3, 4, 5, 6, 7, 8, 9, 10]\n",
            "1\n",
            "2\n",
            "3\n",
            "4\n",
            "5\n",
            "6\n",
            "7\n",
            "8\n",
            "9\n",
            "10\n"
          ]
        }
      ],
      "source": [
        "a=list(range(1,11)) # range(1,11) means from 1 to inclusive 10, It will take store values into the list\n",
        "print(a)\n",
        "for x in a:\n",
        "  if x>0:\n",
        "    print(x)"
      ]
    },
    {
      "cell_type": "code",
      "execution_count": null,
      "metadata": {
        "colab": {
          "base_uri": "https://localhost:8080/"
        },
        "id": "EQXkqqgCfbwf",
        "outputId": "d68455c2-4746-4c47-e615-2a0004bb3b21"
      },
      "outputs": [
        {
          "name": "stdout",
          "output_type": "stream",
          "text": [
            "First Element:  1\n",
            "Last two elements:  5 4\n",
            "With Start and Stop:  [2, 3, 4]\n",
            "Only start:  [3, 4, 5]\n",
            "Only Stop:  [1, 2, 3]\n",
            "Negative slice:  [2, 3]\n",
            "Slice with no end but step of 2: [1, 3, 5]\n",
            "True True\n"
          ]
        }
      ],
      "source": [
        "a=[1,2,3,4,5]  # Sample List\n",
        "\n",
        "print(\"First Element: \", a[0])\n",
        "print(\"Last two elements: \",a[-1],a[-2])\n",
        "\n",
        "#Slicing \n",
        "#a[start:end+1:step]\n",
        "#start default=0\n",
        "#end default=lenght of list\n",
        "#step default=1\n",
        "\n",
        "print(\"With Start and Stop: \",a[1:4]) #starts at index 1 stops at 3\n",
        "print(\"Only start: \",a[2:]) #from 2nd index till end\n",
        "print(\"Only Stop: \",a[:3]) #till index 2\n",
        "\n",
        "print(\"Negative slice: \", a[1:-2])\n",
        "print(\"Slice with no end but step of 2:\",a[0::2])\n",
        "\n",
        "print(5 in a,6 not in a) #in membership operator"
      ]
    },
    {
      "cell_type": "code",
      "execution_count": null,
      "metadata": {
        "colab": {
          "base_uri": "https://localhost:8080/"
        },
        "id": "Zs3oZYcQf8Bf",
        "outputId": "53bfeaf3-ebc3-43c5-86ff-5bdcdc32ce21"
      },
      "outputs": [
        {
          "name": "stdout",
          "output_type": "stream",
          "text": [
            "False\n"
          ]
        }
      ],
      "source": [
        "a=[2,0,4,6,8,10]  # Simple example\n",
        "b=[x for x in range(11) if x%2==0]\n",
        "print(a==b)\n"
      ]
    },
    {
      "cell_type": "code",
      "execution_count": null,
      "metadata": {
        "colab": {
          "base_uri": "https://localhost:8080/"
        },
        "id": "8XkUc9b3jpGL",
        "outputId": "70e083a3-584a-4fe0-c8b5-8c4dab3f5273"
      },
      "outputs": [
        {
          "name": "stdout",
          "output_type": "stream",
          "text": [
            "[1, 2, 3, 4, 5, 6, 7, 8]\n",
            "[1, 2, 3, 4, 5, 6, 7, 8]\n",
            "[8, 7, 6, 5, 4, 3, 2, 1]\n"
          ]
        }
      ],
      "source": [
        "mainlist=[[1,2,3],[4,5,6],[-1,7,8]]#-->[1,2,3,4,5,6,7,8]\n",
        "l=[]\n",
        "#Classic loops\n",
        "for sublist in mainlist:\n",
        "  for item in sublist:\n",
        "    if item>0:\n",
        "      l.append(item)\n",
        "print(l)\n",
        "#One liner with list comprehension\n",
        "q=[item for sublist in mainlist for item in sublist if item>0]\n",
        "print(q)\n",
        "print(q[::-1])"
      ]
    },
    {
      "cell_type": "code",
      "execution_count": null,
      "metadata": {
        "colab": {
          "base_uri": "https://localhost:8080/"
        },
        "id": "76RK7lgzqc1c",
        "outputId": "33c00556-031a-42f1-efcb-f8c628f47b0f"
      },
      "outputs": [
        {
          "name": "stdout",
          "output_type": "stream",
          "text": [
            "3\n",
            "list append: [1, 2, 3, 4]\n",
            "list clear: []\n",
            "This is b without copying: [4, 5, 6, 4]\n",
            "d: [4, 5, 6, 4, 3] c: [4, 5, 6, 4]\n",
            "4 repeats 2 times in [4, 5, 6, 4, 3]\n",
            "with append: [1, 2, 3, [4, 5]]\n",
            "With extend: [1, 2, 3, 4, 5]\n",
            "First occurence of 4 is at index:3 in [1, 2, 3, 4, 5]\n"
          ]
        }
      ],
      "source": [
        "a=[1,2,3]\n",
        "print(len(a)) #len() return length of whatever object is passed to it in this case a list\n",
        "a.append(4)  # append() Adds an element at the end of the list\n",
        "print(\"list append:\",a)\n",
        "b=[1,2,3]\n",
        "b.clear()# clear()  Removes all the elements from the list\n",
        "print(\"list clear:\",b)\n",
        "\n",
        "d=[4,5,6]\n",
        "b=d  #expect b=[4,5,6]\n",
        "d.append(4)\n",
        "print(\"This is b without copying:\",b)\n",
        "\n",
        "c=d.copy()# copy()  Returns a copy of the list\n",
        "d.append(3)\n",
        "print(\"d:\",d,\"c:\",c)\n",
        "\n",
        "\n",
        "print(f\"4 repeats {d.count(4)} times in {d}\") # count() Returns the number of elements with the specified value\n",
        "a=[1,2,3]\n",
        "b=[4,5]\n",
        "a.append(b)\n",
        "print(\"with append:\",a)\n",
        "a=[1,2,3]\n",
        "b=[4,5]\n",
        "a.extend(b)# extend()   Add the elements of a list (or any iterable), to the end of the current list\n",
        "print(\"With extend:\",a)\n",
        "print(f\"First occurence of 4 is at index:{a.index(4)} in {a}\")# index() Returns the index of the first element with the specified value\n",
        "\n",
        "#list=[2,3,1,1,4,5]\n",
        "#list.index(1)-->2"
      ]
    },
    {
      "cell_type": "code",
      "execution_count": null,
      "metadata": {
        "colab": {
          "base_uri": "https://localhost:8080/"
        },
        "id": "D0syK3LjlLvX",
        "outputId": "00d4bce4-9968-47d7-da75-a1553232777a"
      },
      "outputs": [
        {
          "name": "stdout",
          "output_type": "stream",
          "text": [
            "Insertion: [1, 2, 'inserted', 3, 4, 5]\n",
            "After pop: a: [1, 2, 3, 4] b: 5\n",
            "After removal: [1, 3, 4] None\n",
            "reversed: [3, 2, 1]\n",
            "After sort: [1, 2, 3]\n",
            "After sorted: [3, 2, 1] [1, 2, 3]\n"
          ]
        }
      ],
      "source": [
        "a=[1,2,3,4,5]\n",
        "a.insert(2,'inserted') # insert()   Adds an element at the specified position\n",
        "print(\"Insertion:\",a) \n",
        "a=[1,2,3,4,5]\n",
        "b=a.pop()# pop()    Removes the element at the specified position (default -1) and returns it\n",
        "print(\"After pop: a:\",a,\"b:\",b)\n",
        "b=a.remove(2)# remove() Removes the first item with the specified value but does not return\n",
        "print(\"After removal:\",a,b)\n",
        "a=[1,2,3]\n",
        "a.reverse()# reverse()  Reverses the order of the list\n",
        "print(\"reversed:\",a)\n",
        "a.sort(reverse=False)# sort()   Sorts the list\n",
        "print(\"After sort:\",a)\n",
        "c=sorted(a,reverse=True)\n",
        "print(\"After sorted:\",c,a)\n",
        "del(a)\n",
        "#print(a)    ## Uncomment and execute to check error: a is not defined"
      ]
    },
    {
      "cell_type": "markdown",
      "metadata": {
        "id": "GeGDgefzPB0W"
      },
      "source": [
        "### **Dictionary**"
      ]
    },
    {
      "cell_type": "code",
      "execution_count": null,
      "metadata": {
        "colab": {
          "base_uri": "https://localhost:8080/"
        },
        "id": "tItjnUcwPH6i",
        "outputId": "aae3c342-73de-49b1-ca72-75ca298216b4"
      },
      "outputs": [
        {
          "name": "stdout",
          "output_type": "stream",
          "text": [
            "a\n",
            "length of dictionary =  3\n",
            "yes\n",
            "dict_keys(['1', '2', '3'])\n",
            "\n",
            "\n",
            "1\n",
            "2\n",
            "3\n"
          ]
        }
      ],
      "source": [
        "# keyword is not mutable\n",
        "# how to define Dictionary\n",
        "d={\n",
        "    \"1\":\"a\",\n",
        "   \"2\":\"b\",\n",
        "   \"3\":\"c\"\n",
        "\n",
        "\n",
        "} \n",
        "print(d[\"1\"])\n",
        "# print length of the dictionary\n",
        "print(\"length of dictionary = \",len(d))\n",
        "\n",
        "\n",
        "# check if key exits in dictionary\n",
        "if \"1\" in d:\n",
        "  print(\"yes\")\n",
        "else:\n",
        "  print(\"no\")\n",
        "\n",
        "\n",
        "# extract all keys in dictionary\n",
        "keys=d.keys()\n",
        "print(keys)\n",
        "print(\"\\n\")\n",
        "for x in keys:\n",
        "  print(x)"
      ]
    },
    {
      "cell_type": "code",
      "execution_count": null,
      "metadata": {
        "colab": {
          "base_uri": "https://localhost:8080/"
        },
        "id": "x6PKjHmUbBFb",
        "outputId": "d71f3912-d57d-442c-bf07-ff4d5a8c94d6"
      },
      "outputs": [
        {
          "name": "stdout",
          "output_type": "stream",
          "text": [
            "key =  1  value  a\n",
            "key =  2  value  b\n",
            "key =  3  value  c\n",
            "key =  4  value  hello\n",
            "key =  (5, 4, 3)  value  hey\n",
            "key =  hey  value  (5, 4, 3)\n"
          ]
        }
      ],
      "source": [
        "# print all the elements in dictionary\n",
        "d={\n",
        "    \"1\":\"a\",\n",
        "   \"2\":\"b\",\n",
        "   \"3\":\"c\",\n",
        "   4:\"hello\",\n",
        "   (5,4,3):\"hey\",\n",
        "    \"hey\":(5,4,3)\n",
        "\n",
        "}\n",
        "# print keys and value\n",
        "for x in d:\n",
        "  print(\"key = \",x,\" value \",d[x])"
      ]
    },
    {
      "cell_type": "code",
      "execution_count": null,
      "metadata": {
        "colab": {
          "base_uri": "https://localhost:8080/"
        },
        "id": "3sNwZ5cUTCR1",
        "outputId": "f55a8682-2b29-4be5-9f6c-7b82cd5ec261"
      },
      "outputs": [
        {
          "name": "stdout",
          "output_type": "stream",
          "text": [
            "{'2': 'b', '3': 5, 4: 'hello', (5, 4, 3): 'hey'}\n",
            "{'2': 'b', '3': 5, (5, 4, 3): 'hey'}\n"
          ]
        }
      ],
      "source": [
        "# how to delete the key\n",
        "d={\n",
        "    \"1\":\"a\",\n",
        "   \"2\":\"b\",\n",
        "   \"3\":5,\n",
        "   4:\"hello\",\n",
        "   (5,4,3):\"hey\"\n",
        "}\n",
        "\n",
        "# first way\n",
        "del d[\"1\"]\n",
        "print(d)\n",
        "\n",
        "# second way\n",
        "d.pop(4)\n",
        "print(d)\n"
      ]
    },
    {
      "cell_type": "code",
      "execution_count": null,
      "metadata": {
        "colab": {
          "base_uri": "https://localhost:8080/"
        },
        "id": "8kg9d_73WDZk",
        "outputId": "c0941129-4186-4324-c7d8-7e33763cbe83"
      },
      "outputs": [
        {
          "name": "stdout",
          "output_type": "stream",
          "text": [
            "{'1': 'a', '2': 'b', '3': 'c', 4: 'hello', (5, 4, 3): 'hey'}\n",
            "{}\n"
          ]
        }
      ],
      "source": [
        "# how to clear dictionary\n",
        "d={\n",
        "    \"1\":\"a\",\n",
        "   \"2\":\"b\",\n",
        "   \"3\":\"c\",\n",
        "   4:\"hello\",\n",
        "   (5,4,3):\"hey\"\n",
        "\n",
        "\n",
        "}\n",
        "print(d)\n",
        "d.clear()\n",
        "print(d)"
      ]
    },
    {
      "cell_type": "code",
      "execution_count": null,
      "metadata": {
        "colab": {
          "base_uri": "https://localhost:8080/"
        },
        "id": "VAdbkqpLa1v7",
        "outputId": "b27fa82e-e8c3-4080-f060-99dd2ed8f771"
      },
      "outputs": [
        {
          "name": "stdout",
          "output_type": "stream",
          "text": [
            "{1: 3, 2: 4, 4: 3, 5: 4, 7: 2, 3: 4, 6: 2}\n"
          ]
        }
      ],
      "source": [
        "# use of dictionary\n",
        "#  calculate frequency\n",
        "a=[1,2,4,5,7,3,4,5,2,1,3,5,2,3,6,7,2,1,4,3,5,6]\n",
        "\n",
        "\n",
        "# # first define the dictionary with keywords as number\n",
        "d={}\n",
        "for x in a:\n",
        "  if x in d:\n",
        "    d[x]=d[x]+1\n",
        "  else:\n",
        "    d[x]=1\n",
        "print(d)"
      ]
    },
    {
      "cell_type": "markdown",
      "metadata": {
        "id": "ALHfGriHWwHY"
      },
      "source": [
        "# **Function**"
      ]
    },
    {
      "cell_type": "code",
      "execution_count": null,
      "metadata": {
        "colab": {
          "base_uri": "https://localhost:8080/"
        },
        "id": "BnzR45quXw3h",
        "outputId": "89ba6411-bca7-4ee7-ae47-59f8ae20eafb"
      },
      "outputs": [
        {
          "name": "stdout",
          "output_type": "stream",
          "text": [
            "None\n",
            "5\n"
          ]
        }
      ],
      "source": [
        "def incre(a): # def function_name(arguments)\n",
        "  a=a+1       # Statements\n",
        "  #return a    # Return Statement\n",
        "\n",
        "s=5\n",
        "s=incre(s)\n",
        "print(s)\n",
        "\n",
        "def add(a,b):       ## Uncomment and execute\n",
        "  return a+b\n",
        "\n",
        "print(add(3,2))"
      ]
    },
    {
      "cell_type": "code",
      "execution_count": null,
      "metadata": {
        "colab": {
          "base_uri": "https://localhost:8080/"
        },
        "id": "MNQGgPU4aqFI",
        "outputId": "a672f9ef-5e77-4013-b70f-8a1d10b986e7"
      },
      "outputs": [
        {
          "name": "stdout",
          "output_type": "stream",
          "text": [
            "Values outside the function:  [1, 50, 3]\n"
          ]
        }
      ],
      "source": [
        "#All parameters (arguments) in the Python language are passed by reference\n",
        "\n",
        "\n",
        "def changeme( mylist ):\n",
        "   mylist[1]=50\n",
        "   return\n",
        "\n",
        "mylist = [1,2,3]\n",
        "changeme(mylist)\n",
        "print (\"Values outside the function: \", mylist)\n",
        "\n",
        "\n"
      ]
    },
    {
      "cell_type": "code",
      "execution_count": null,
      "metadata": {
        "colab": {
          "base_uri": "https://localhost:8080/"
        },
        "id": "vFjhp5FUctKR",
        "outputId": "0b1fc8a1-117d-40ab-bebb-6ced8e262ea2"
      },
      "outputs": [
        {
          "name": "stdout",
          "output_type": "stream",
          "text": [
            "[10, 20, 30]\n",
            "Values outside the function:  [1, 2, 3]\n"
          ]
        }
      ],
      "source": [
        "# changes inside function\n",
        "\n",
        "def changeme(mylist):\n",
        "   mylist=[10,20,30]\n",
        "   print(mylist)\n",
        "   return\n",
        "\n",
        "mylist = [1,2,3]\n",
        "changeme(mylist=[1,2])\n",
        "print (\"Values outside the function: \", mylist)\n",
        "\n",
        "#The parameter mylist is local to the function changeme"
      ]
    },
    {
      "cell_type": "code",
      "execution_count": null,
      "metadata": {
        "colab": {
          "base_uri": "https://localhost:8080/",
          "height": 304
        },
        "id": "aj9MzoXXdkQa",
        "outputId": "8cbcf5e6-4fba-496c-a2cc-7e4169e78c7f"
      },
      "outputs": [
        {
          "ename": "TypeError",
          "evalue": "ignored",
          "output_type": "error",
          "traceback": [
            "\u001b[0;31m---------------------------------------------------------------------------\u001b[0m",
            "\u001b[0;31mTypeError\u001b[0m                                 Traceback (most recent call last)",
            "\u001b[0;32m<ipython-input-26-11afe96f4b5c>\u001b[0m in \u001b[0;36m<module>\u001b[0;34m()\u001b[0m\n\u001b[1;32m      3\u001b[0m   \u001b[0;32mreturn\u001b[0m \u001b[0;36m1\u001b[0m\u001b[0;34m,\u001b[0m\u001b[0md\u001b[0m\u001b[0;34m\u001b[0m\u001b[0;34m\u001b[0m\u001b[0m\n\u001b[1;32m      4\u001b[0m \u001b[0mr\u001b[0m\u001b[0;34m=\u001b[0m\u001b[0;36m0\u001b[0m\u001b[0;34m\u001b[0m\u001b[0;34m\u001b[0m\u001b[0m\n\u001b[0;32m----> 5\u001b[0;31m \u001b[0ma\u001b[0m\u001b[0;34m,\u001b[0m \u001b[0mc\u001b[0m\u001b[0;34m=\u001b[0m\u001b[0mcall\u001b[0m\u001b[0;34m(\u001b[0m\u001b[0mr\u001b[0m\u001b[0;34m=\u001b[0m\u001b[0;36m20\u001b[0m\u001b[0;34m)\u001b[0m\u001b[0;34m\u001b[0m\u001b[0;34m\u001b[0m\u001b[0m\n\u001b[0m\u001b[1;32m      6\u001b[0m \u001b[0mprint\u001b[0m\u001b[0;34m(\u001b[0m\u001b[0ma\u001b[0m\u001b[0;34m,\u001b[0m\u001b[0mc\u001b[0m\u001b[0;34m,\u001b[0m \u001b[0msep\u001b[0m\u001b[0;34m=\u001b[0m\u001b[0;34m\"\\n\"\u001b[0m\u001b[0;34m)\u001b[0m\u001b[0;34m\u001b[0m\u001b[0;34m\u001b[0m\u001b[0m\n",
            "\u001b[0;31mTypeError\u001b[0m: call() got an unexpected keyword argument 'r'"
          ]
        }
      ],
      "source": [
        "# return statement in python\n",
        "def call(d):\n",
        "  return 1,d\n",
        "r=0\n",
        "a, c=call(r=20) \n",
        "print(a,c, sep=\"\\n\")"
      ]
    },
    {
      "cell_type": "code",
      "execution_count": null,
      "metadata": {
        "colab": {
          "base_uri": "https://localhost:8080/"
        },
        "id": "liRvfvmeePIa",
        "outputId": "3f2d82c5-8829-4c37-f13f-92aa8fcf808f"
      },
      "outputs": [
        {
          "name": "stdout",
          "output_type": "stream",
          "text": [
            "Name:  Arjun\n",
            "Age  19\n",
            "Name:  Arjun\n",
            "Age  18\n"
          ]
        }
      ],
      "source": [
        "# Default Arguments\n",
        "def printinfo( name, age = 18):\n",
        "   print (\"Name: \", name)\n",
        "   print (\"Age \", age)\n",
        "   return\n",
        "printinfo(\"Arjun\",19)\n",
        "printinfo(\"Arjun\")"
      ]
    },
    {
      "cell_type": "code",
      "execution_count": null,
      "metadata": {
        "colab": {
          "base_uri": "https://localhost:8080/"
        },
        "id": "Pp4Wxp1ce_qa",
        "outputId": "577ca347-d7f8-42c0-cd76-bd214d515f92"
      },
      "outputs": [
        {
          "name": "stdout",
          "output_type": "stream",
          "text": [
            "5\n",
            "0\n"
          ]
        }
      ],
      "source": [
        "#Scope of Variables\n",
        "\n",
        "#Global vs Local variable\n",
        "\n",
        "total=0  # Global Variable\n",
        "def sum(a,b):\n",
        "  total=a+b   # Local Variable, Total is assigned value inside the scope of function.\n",
        "  print(total)\n",
        "  return\n",
        "\n",
        "sum(2,3)\n",
        "print(total)\n"
      ]
    },
    {
      "cell_type": "code",
      "execution_count": null,
      "metadata": {
        "colab": {
          "base_uri": "https://localhost:8080/"
        },
        "id": "ZCMHb271cP0O",
        "outputId": "eb4e740c-ef35-4dd1-955b-bd08ccc635ba"
      },
      "outputs": [
        {
          "name": "stdout",
          "output_type": "stream",
          "text": [
            "[[6, 0, 0], [7, 1, 0], [1, 2, 3], [9, 0, 8]]\n"
          ]
        }
      ],
      "source": [
        "a=[[1,2,3],[9,0,8],[6,0,0],[7,1,0]]\n",
        "b=sorted(a,key=lambda x:[x[-1],x[-2]]) # Syntax for sorted() is sorted(iterable, key=None, reverse=False) ## Iterable and reverse are optional\n",
        "#b=sorted(a) \n",
        "print(b) # Prints after sorting"
      ]
    },
    {
      "cell_type": "code",
      "execution_count": null,
      "metadata": {
        "colab": {
          "base_uri": "https://localhost:8080/",
          "height": 183
        },
        "id": "GXnH37iYlQ1O",
        "outputId": "e9243678-659c-41ee-e0aa-4c0024170f65"
      },
      "outputs": [
        {
          "ename": "TypeError",
          "evalue": "ignored",
          "output_type": "error",
          "traceback": [
            "\u001b[0;31m---------------------------------------------------------------------------\u001b[0m",
            "\u001b[0;31mTypeError\u001b[0m                                 Traceback (most recent call last)",
            "\u001b[0;32m<ipython-input-3-413e827d797e>\u001b[0m in \u001b[0;36m<module>\u001b[0;34m()\u001b[0m\n\u001b[1;32m      1\u001b[0m \u001b[0ma\u001b[0m\u001b[0;34m=\u001b[0m\u001b[0;34m[\u001b[0m\u001b[0;36m1\u001b[0m\u001b[0;34m,\u001b[0m \u001b[0;36m3\u001b[0m\u001b[0;34m,\u001b[0m \u001b[0;36m2\u001b[0m\u001b[0;34m,\u001b[0m \u001b[0;36m10\u001b[0m\u001b[0;34m,\u001b[0m \u001b[0;36m4\u001b[0m\u001b[0;34m]\u001b[0m\u001b[0;34m\u001b[0m\u001b[0;34m\u001b[0m\u001b[0m\n\u001b[0;32m----> 2\u001b[0;31m \u001b[0mprint\u001b[0m\u001b[0;34m(\u001b[0m\u001b[0msorted\u001b[0m\u001b[0;34m(\u001b[0m\u001b[0;34m)\u001b[0m\u001b[0;34m)\u001b[0m\u001b[0;34m\u001b[0m\u001b[0;34m\u001b[0m\u001b[0m\n\u001b[0m",
            "\u001b[0;31mTypeError\u001b[0m: sorted expected 1 arguments, got 0"
          ]
        }
      ],
      "source": [
        "a=[1, 3, 2, 10, 4]\n",
        "print(sorted(a, ))"
      ]
    },
    {
      "cell_type": "code",
      "execution_count": null,
      "metadata": {
        "colab": {
          "base_uri": "https://localhost:8080/",
          "height": 252
        },
        "id": "Ip92DghIXpJ2",
        "outputId": "7eaae946-8c94-4afc-8182-1b4aeec4f393"
      },
      "outputs": [
        {
          "ename": "NameError",
          "evalue": "ignored",
          "output_type": "error",
          "traceback": [
            "\u001b[0;31m---------------------------------------------------------------------------\u001b[0m",
            "\u001b[0;31mNameError\u001b[0m                                 Traceback (most recent call last)",
            "\u001b[0;32m<ipython-input-41-50d5cbdd6a23>\u001b[0m in \u001b[0;36m<module>\u001b[0;34m()\u001b[0m\n\u001b[0;32m----> 1\u001b[0;31m \u001b[0mprime\u001b[0m\u001b[0;34m(\u001b[0m\u001b[0;36m5\u001b[0m\u001b[0;34m)\u001b[0m\u001b[0;34m\u001b[0m\u001b[0;34m\u001b[0m\u001b[0m\n\u001b[0m",
            "\u001b[0;31mNameError\u001b[0m: name 'prime' is not defined"
          ]
        }
      ],
      "source": [
        "prime(5)"
      ]
    },
    {
      "cell_type": "code",
      "execution_count": null,
      "metadata": {
        "colab": {
          "base_uri": "https://localhost:8080/"
        },
        "id": "oPFEpXJXmvDY",
        "outputId": "7d9c7faf-be79-4fad-8650-948d05712fc6"
      },
      "outputs": [
        {
          "name": "stdout",
          "output_type": "stream",
          "text": [
            "he\n"
          ]
        }
      ],
      "source": [
        "a=\"hello I am the boy\"\n",
        "print(a[0:2])"
      ]
    },
    {
      "cell_type": "code",
      "execution_count": null,
      "metadata": {
        "colab": {
          "base_uri": "https://localhost:8080/"
        },
        "id": "MTwlEIHHraoa",
        "outputId": "52be8cab-5062-4f22-b019-13b17340ead2"
      },
      "outputs": [
        {
          "name": "stdout",
          "output_type": "stream",
          "text": [
            "122\n"
          ]
        }
      ],
      "source": [
        "a='z'\n",
        "print(ord(a))"
      ]
    }
  ],
  "metadata": {
    "colab": {
      "collapsed_sections": [],
      "name": "Copy of Mu.  Vu. ",
      "provenance": [],
      "include_colab_link": true
    },
    "kernelspec": {
      "display_name": "Python 3",
      "name": "python3"
    }
  },
  "nbformat": 4,
  "nbformat_minor": 0
}
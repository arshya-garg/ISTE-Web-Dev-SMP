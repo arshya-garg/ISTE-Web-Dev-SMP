{
  "nbformat": 4,
  "nbformat_minor": 0,
  "metadata": {
    "colab": {
      "name": "Analytics SMP Pandas.ipynb",
      "provenance": [],
      "collapsed_sections": [],
      "include_colab_link": true
    },
    "kernelspec": {
      "name": "python3",
      "display_name": "Python 3"
    },
    "language_info": {
      "name": "python"
    }
  },
  "cells": [
    {
      "cell_type": "markdown",
      "metadata": {
        "id": "view-in-github",
        "colab_type": "text"
      },
      "source": [
        "<a href=\"https://colab.research.google.com/github/arshya-garg/ISTE-Web-Dev-SMP/blob/main/Analytics_SMP_Pandas.ipynb\" target=\"_parent\"><img src=\"https://colab.research.google.com/assets/colab-badge.svg\" alt=\"Open In Colab\"/></a>"
      ]
    },
    {
      "cell_type": "markdown",
      "source": [
        "# **Importing Python Libraries**"
      ],
      "metadata": {
        "id": "cNMbYU7RWyAz"
      }
    },
    {
      "cell_type": "markdown",
      "source": [
        "1.Importing & Reading DataSet"
      ],
      "metadata": {
        "id": "WS7C0XrSgo6O"
      }
    },
    {
      "cell_type": "code",
      "source": [
        "from google.colab import drive\n",
        "drive.mount('/content/drive')"
      ],
      "metadata": {
        "colab": {
          "base_uri": "https://localhost:8080/"
        },
        "id": "VE2oq5AZhD3e",
        "outputId": "71b9daa0-8190-4aea-8e3d-a3374b2550ce"
      },
      "execution_count": null,
      "outputs": [
        {
          "output_type": "stream",
          "name": "stdout",
          "text": [
            "Drive already mounted at /content/drive; to attempt to forcibly remount, call drive.mount(\"/content/drive\", force_remount=True).\n"
          ]
        }
      ]
    },
    {
      "cell_type": "code",
      "source": [
        "import pandas as pd\n",
        "f = pd.read_csv('/content/drive/MyDrive/data/Climate.csv')"
      ],
      "metadata": {
        "id": "H9VZQmYBgspL"
      },
      "execution_count": null,
      "outputs": []
    },
    {
      "cell_type": "code",
      "source": [
        "f.describe()"
      ],
      "metadata": {
        "colab": {
          "base_uri": "https://localhost:8080/",
          "height": 300
        },
        "id": "rKRA6a9rAx_4",
        "outputId": "f7c375e4-0a38-4d67-81dd-7a6c7e40338c"
      },
      "execution_count": null,
      "outputs": [
        {
          "output_type": "execute_result",
          "data": {
            "text/plain": [
              "       Pollution (AQI)  Temperature (C)  Rainfall (mm)\n",
              "count        16.000000        16.000000      16.000000\n",
              "mean        278.250000        25.187500    1452.062500\n",
              "std         138.319196         5.075677     514.470662\n",
              "min          39.000000        15.000000     600.000000\n",
              "25%         173.750000        22.750000    1255.000000\n",
              "50%         283.000000        26.500000    1670.000000\n",
              "75%         401.500000        29.000000    1817.500000\n",
              "max         463.000000        32.000000    1950.000000"
            ],
            "text/html": [
              "\n",
              "  <div id=\"df-edfb2cdc-fda5-4d6c-9f52-138ef13ee856\">\n",
              "    <div class=\"colab-df-container\">\n",
              "      <div>\n",
              "<style scoped>\n",
              "    .dataframe tbody tr th:only-of-type {\n",
              "        vertical-align: middle;\n",
              "    }\n",
              "\n",
              "    .dataframe tbody tr th {\n",
              "        vertical-align: top;\n",
              "    }\n",
              "\n",
              "    .dataframe thead th {\n",
              "        text-align: right;\n",
              "    }\n",
              "</style>\n",
              "<table border=\"1\" class=\"dataframe\">\n",
              "  <thead>\n",
              "    <tr style=\"text-align: right;\">\n",
              "      <th></th>\n",
              "      <th>Pollution (AQI)</th>\n",
              "      <th>Temperature (C)</th>\n",
              "      <th>Rainfall (mm)</th>\n",
              "    </tr>\n",
              "  </thead>\n",
              "  <tbody>\n",
              "    <tr>\n",
              "      <th>count</th>\n",
              "      <td>16.000000</td>\n",
              "      <td>16.000000</td>\n",
              "      <td>16.000000</td>\n",
              "    </tr>\n",
              "    <tr>\n",
              "      <th>mean</th>\n",
              "      <td>278.250000</td>\n",
              "      <td>25.187500</td>\n",
              "      <td>1452.062500</td>\n",
              "    </tr>\n",
              "    <tr>\n",
              "      <th>std</th>\n",
              "      <td>138.319196</td>\n",
              "      <td>5.075677</td>\n",
              "      <td>514.470662</td>\n",
              "    </tr>\n",
              "    <tr>\n",
              "      <th>min</th>\n",
              "      <td>39.000000</td>\n",
              "      <td>15.000000</td>\n",
              "      <td>600.000000</td>\n",
              "    </tr>\n",
              "    <tr>\n",
              "      <th>25%</th>\n",
              "      <td>173.750000</td>\n",
              "      <td>22.750000</td>\n",
              "      <td>1255.000000</td>\n",
              "    </tr>\n",
              "    <tr>\n",
              "      <th>50%</th>\n",
              "      <td>283.000000</td>\n",
              "      <td>26.500000</td>\n",
              "      <td>1670.000000</td>\n",
              "    </tr>\n",
              "    <tr>\n",
              "      <th>75%</th>\n",
              "      <td>401.500000</td>\n",
              "      <td>29.000000</td>\n",
              "      <td>1817.500000</td>\n",
              "    </tr>\n",
              "    <tr>\n",
              "      <th>max</th>\n",
              "      <td>463.000000</td>\n",
              "      <td>32.000000</td>\n",
              "      <td>1950.000000</td>\n",
              "    </tr>\n",
              "  </tbody>\n",
              "</table>\n",
              "</div>\n",
              "      <button class=\"colab-df-convert\" onclick=\"convertToInteractive('df-edfb2cdc-fda5-4d6c-9f52-138ef13ee856')\"\n",
              "              title=\"Convert this dataframe to an interactive table.\"\n",
              "              style=\"display:none;\">\n",
              "        \n",
              "  <svg xmlns=\"http://www.w3.org/2000/svg\" height=\"24px\"viewBox=\"0 0 24 24\"\n",
              "       width=\"24px\">\n",
              "    <path d=\"M0 0h24v24H0V0z\" fill=\"none\"/>\n",
              "    <path d=\"M18.56 5.44l.94 2.06.94-2.06 2.06-.94-2.06-.94-.94-2.06-.94 2.06-2.06.94zm-11 1L8.5 8.5l.94-2.06 2.06-.94-2.06-.94L8.5 2.5l-.94 2.06-2.06.94zm10 10l.94 2.06.94-2.06 2.06-.94-2.06-.94-.94-2.06-.94 2.06-2.06.94z\"/><path d=\"M17.41 7.96l-1.37-1.37c-.4-.4-.92-.59-1.43-.59-.52 0-1.04.2-1.43.59L10.3 9.45l-7.72 7.72c-.78.78-.78 2.05 0 2.83L4 21.41c.39.39.9.59 1.41.59.51 0 1.02-.2 1.41-.59l7.78-7.78 2.81-2.81c.8-.78.8-2.07 0-2.86zM5.41 20L4 18.59l7.72-7.72 1.47 1.35L5.41 20z\"/>\n",
              "  </svg>\n",
              "      </button>\n",
              "      \n",
              "  <style>\n",
              "    .colab-df-container {\n",
              "      display:flex;\n",
              "      flex-wrap:wrap;\n",
              "      gap: 12px;\n",
              "    }\n",
              "\n",
              "    .colab-df-convert {\n",
              "      background-color: #E8F0FE;\n",
              "      border: none;\n",
              "      border-radius: 50%;\n",
              "      cursor: pointer;\n",
              "      display: none;\n",
              "      fill: #1967D2;\n",
              "      height: 32px;\n",
              "      padding: 0 0 0 0;\n",
              "      width: 32px;\n",
              "    }\n",
              "\n",
              "    .colab-df-convert:hover {\n",
              "      background-color: #E2EBFA;\n",
              "      box-shadow: 0px 1px 2px rgba(60, 64, 67, 0.3), 0px 1px 3px 1px rgba(60, 64, 67, 0.15);\n",
              "      fill: #174EA6;\n",
              "    }\n",
              "\n",
              "    [theme=dark] .colab-df-convert {\n",
              "      background-color: #3B4455;\n",
              "      fill: #D2E3FC;\n",
              "    }\n",
              "\n",
              "    [theme=dark] .colab-df-convert:hover {\n",
              "      background-color: #434B5C;\n",
              "      box-shadow: 0px 1px 3px 1px rgba(0, 0, 0, 0.15);\n",
              "      filter: drop-shadow(0px 1px 2px rgba(0, 0, 0, 0.3));\n",
              "      fill: #FFFFFF;\n",
              "    }\n",
              "  </style>\n",
              "\n",
              "      <script>\n",
              "        const buttonEl =\n",
              "          document.querySelector('#df-edfb2cdc-fda5-4d6c-9f52-138ef13ee856 button.colab-df-convert');\n",
              "        buttonEl.style.display =\n",
              "          google.colab.kernel.accessAllowed ? 'block' : 'none';\n",
              "\n",
              "        async function convertToInteractive(key) {\n",
              "          const element = document.querySelector('#df-edfb2cdc-fda5-4d6c-9f52-138ef13ee856');\n",
              "          const dataTable =\n",
              "            await google.colab.kernel.invokeFunction('convertToInteractive',\n",
              "                                                     [key], {});\n",
              "          if (!dataTable) return;\n",
              "\n",
              "          const docLinkHtml = 'Like what you see? Visit the ' +\n",
              "            '<a target=\"_blank\" href=https://colab.research.google.com/notebooks/data_table.ipynb>data table notebook</a>'\n",
              "            + ' to learn more about interactive tables.';\n",
              "          element.innerHTML = '';\n",
              "          dataTable['output_type'] = 'display_data';\n",
              "          await google.colab.output.renderOutput(dataTable, element);\n",
              "          const docLink = document.createElement('div');\n",
              "          docLink.innerHTML = docLinkHtml;\n",
              "          element.appendChild(docLink);\n",
              "        }\n",
              "      </script>\n",
              "    </div>\n",
              "  </div>\n",
              "  "
            ]
          },
          "metadata": {},
          "execution_count": 13
        }
      ]
    },
    {
      "cell_type": "markdown",
      "source": [
        "2.Head and Tail Operations"
      ],
      "metadata": {
        "id": "Db0aIwSYkswT"
      }
    },
    {
      "cell_type": "code",
      "source": [
        "f.head(8)"
      ],
      "metadata": {
        "colab": {
          "base_uri": "https://localhost:8080/",
          "height": 300
        },
        "id": "xlI0yLDykana",
        "outputId": "dce811ab-295c-4f87-832e-297efad6587d"
      },
      "execution_count": null,
      "outputs": [
        {
          "output_type": "execute_result",
          "data": {
            "text/plain": [
              "            Date    City  Pollution (AQI)  Temperature (C)  Rainfall (mm)\n",
              "0  1st Jan, 2018  Mumbai              285               27           1780\n",
              "1  1st Jan, 2019  Mumbai              263               32           1870\n",
              "2  1st Jan, 2020  Mumbai              248               29           1800\n",
              "3  1st Jan, 2021  Mumbai              178               30           1750\n",
              "4  1st Jan, 2018   Delhi              463               19            638\n",
              "5  1st Jan, 2019   Delhi              439               15            600\n",
              "6  1st Jan, 2020   Delhi              430               17            640\n",
              "7  1st Jan, 2021   Delhi              406               19            625"
            ],
            "text/html": [
              "\n",
              "  <div id=\"df-92adb1de-e6cf-4a82-b064-cebefbd9f265\">\n",
              "    <div class=\"colab-df-container\">\n",
              "      <div>\n",
              "<style scoped>\n",
              "    .dataframe tbody tr th:only-of-type {\n",
              "        vertical-align: middle;\n",
              "    }\n",
              "\n",
              "    .dataframe tbody tr th {\n",
              "        vertical-align: top;\n",
              "    }\n",
              "\n",
              "    .dataframe thead th {\n",
              "        text-align: right;\n",
              "    }\n",
              "</style>\n",
              "<table border=\"1\" class=\"dataframe\">\n",
              "  <thead>\n",
              "    <tr style=\"text-align: right;\">\n",
              "      <th></th>\n",
              "      <th>Date</th>\n",
              "      <th>City</th>\n",
              "      <th>Pollution (AQI)</th>\n",
              "      <th>Temperature (C)</th>\n",
              "      <th>Rainfall (mm)</th>\n",
              "    </tr>\n",
              "  </thead>\n",
              "  <tbody>\n",
              "    <tr>\n",
              "      <th>0</th>\n",
              "      <td>1st Jan, 2018</td>\n",
              "      <td>Mumbai</td>\n",
              "      <td>285</td>\n",
              "      <td>27</td>\n",
              "      <td>1780</td>\n",
              "    </tr>\n",
              "    <tr>\n",
              "      <th>1</th>\n",
              "      <td>1st Jan, 2019</td>\n",
              "      <td>Mumbai</td>\n",
              "      <td>263</td>\n",
              "      <td>32</td>\n",
              "      <td>1870</td>\n",
              "    </tr>\n",
              "    <tr>\n",
              "      <th>2</th>\n",
              "      <td>1st Jan, 2020</td>\n",
              "      <td>Mumbai</td>\n",
              "      <td>248</td>\n",
              "      <td>29</td>\n",
              "      <td>1800</td>\n",
              "    </tr>\n",
              "    <tr>\n",
              "      <th>3</th>\n",
              "      <td>1st Jan, 2021</td>\n",
              "      <td>Mumbai</td>\n",
              "      <td>178</td>\n",
              "      <td>30</td>\n",
              "      <td>1750</td>\n",
              "    </tr>\n",
              "    <tr>\n",
              "      <th>4</th>\n",
              "      <td>1st Jan, 2018</td>\n",
              "      <td>Delhi</td>\n",
              "      <td>463</td>\n",
              "      <td>19</td>\n",
              "      <td>638</td>\n",
              "    </tr>\n",
              "    <tr>\n",
              "      <th>5</th>\n",
              "      <td>1st Jan, 2019</td>\n",
              "      <td>Delhi</td>\n",
              "      <td>439</td>\n",
              "      <td>15</td>\n",
              "      <td>600</td>\n",
              "    </tr>\n",
              "    <tr>\n",
              "      <th>6</th>\n",
              "      <td>1st Jan, 2020</td>\n",
              "      <td>Delhi</td>\n",
              "      <td>430</td>\n",
              "      <td>17</td>\n",
              "      <td>640</td>\n",
              "    </tr>\n",
              "    <tr>\n",
              "      <th>7</th>\n",
              "      <td>1st Jan, 2021</td>\n",
              "      <td>Delhi</td>\n",
              "      <td>406</td>\n",
              "      <td>19</td>\n",
              "      <td>625</td>\n",
              "    </tr>\n",
              "  </tbody>\n",
              "</table>\n",
              "</div>\n",
              "      <button class=\"colab-df-convert\" onclick=\"convertToInteractive('df-92adb1de-e6cf-4a82-b064-cebefbd9f265')\"\n",
              "              title=\"Convert this dataframe to an interactive table.\"\n",
              "              style=\"display:none;\">\n",
              "        \n",
              "  <svg xmlns=\"http://www.w3.org/2000/svg\" height=\"24px\"viewBox=\"0 0 24 24\"\n",
              "       width=\"24px\">\n",
              "    <path d=\"M0 0h24v24H0V0z\" fill=\"none\"/>\n",
              "    <path d=\"M18.56 5.44l.94 2.06.94-2.06 2.06-.94-2.06-.94-.94-2.06-.94 2.06-2.06.94zm-11 1L8.5 8.5l.94-2.06 2.06-.94-2.06-.94L8.5 2.5l-.94 2.06-2.06.94zm10 10l.94 2.06.94-2.06 2.06-.94-2.06-.94-.94-2.06-.94 2.06-2.06.94z\"/><path d=\"M17.41 7.96l-1.37-1.37c-.4-.4-.92-.59-1.43-.59-.52 0-1.04.2-1.43.59L10.3 9.45l-7.72 7.72c-.78.78-.78 2.05 0 2.83L4 21.41c.39.39.9.59 1.41.59.51 0 1.02-.2 1.41-.59l7.78-7.78 2.81-2.81c.8-.78.8-2.07 0-2.86zM5.41 20L4 18.59l7.72-7.72 1.47 1.35L5.41 20z\"/>\n",
              "  </svg>\n",
              "      </button>\n",
              "      \n",
              "  <style>\n",
              "    .colab-df-container {\n",
              "      display:flex;\n",
              "      flex-wrap:wrap;\n",
              "      gap: 12px;\n",
              "    }\n",
              "\n",
              "    .colab-df-convert {\n",
              "      background-color: #E8F0FE;\n",
              "      border: none;\n",
              "      border-radius: 50%;\n",
              "      cursor: pointer;\n",
              "      display: none;\n",
              "      fill: #1967D2;\n",
              "      height: 32px;\n",
              "      padding: 0 0 0 0;\n",
              "      width: 32px;\n",
              "    }\n",
              "\n",
              "    .colab-df-convert:hover {\n",
              "      background-color: #E2EBFA;\n",
              "      box-shadow: 0px 1px 2px rgba(60, 64, 67, 0.3), 0px 1px 3px 1px rgba(60, 64, 67, 0.15);\n",
              "      fill: #174EA6;\n",
              "    }\n",
              "\n",
              "    [theme=dark] .colab-df-convert {\n",
              "      background-color: #3B4455;\n",
              "      fill: #D2E3FC;\n",
              "    }\n",
              "\n",
              "    [theme=dark] .colab-df-convert:hover {\n",
              "      background-color: #434B5C;\n",
              "      box-shadow: 0px 1px 3px 1px rgba(0, 0, 0, 0.15);\n",
              "      filter: drop-shadow(0px 1px 2px rgba(0, 0, 0, 0.3));\n",
              "      fill: #FFFFFF;\n",
              "    }\n",
              "  </style>\n",
              "\n",
              "      <script>\n",
              "        const buttonEl =\n",
              "          document.querySelector('#df-92adb1de-e6cf-4a82-b064-cebefbd9f265 button.colab-df-convert');\n",
              "        buttonEl.style.display =\n",
              "          google.colab.kernel.accessAllowed ? 'block' : 'none';\n",
              "\n",
              "        async function convertToInteractive(key) {\n",
              "          const element = document.querySelector('#df-92adb1de-e6cf-4a82-b064-cebefbd9f265');\n",
              "          const dataTable =\n",
              "            await google.colab.kernel.invokeFunction('convertToInteractive',\n",
              "                                                     [key], {});\n",
              "          if (!dataTable) return;\n",
              "\n",
              "          const docLinkHtml = 'Like what you see? Visit the ' +\n",
              "            '<a target=\"_blank\" href=https://colab.research.google.com/notebooks/data_table.ipynb>data table notebook</a>'\n",
              "            + ' to learn more about interactive tables.';\n",
              "          element.innerHTML = '';\n",
              "          dataTable['output_type'] = 'display_data';\n",
              "          await google.colab.output.renderOutput(dataTable, element);\n",
              "          const docLink = document.createElement('div');\n",
              "          docLink.innerHTML = docLinkHtml;\n",
              "          element.appendChild(docLink);\n",
              "        }\n",
              "      </script>\n",
              "    </div>\n",
              "  </div>\n",
              "  "
            ]
          },
          "metadata": {},
          "execution_count": 16
        }
      ]
    },
    {
      "cell_type": "code",
      "source": [
        "f.tail(7)"
      ],
      "metadata": {
        "colab": {
          "base_uri": "https://localhost:8080/",
          "height": 269
        },
        "id": "r3_XmrHtlO5F",
        "outputId": "6d8e631a-1f56-43e7-be1c-0313750f5201"
      },
      "execution_count": null,
      "outputs": [
        {
          "output_type": "execute_result",
          "data": {
            "text/plain": [
              "             Date     City  Pollution (AQI)  Temperature (C)  Rainfall (mm)\n",
              "9   1st Jan, 2019  Chennai              161               30           1460\n",
              "10  1st Jan, 2020  Chennai               54               28           1590\n",
              "11  1st Jan, 2021  Chennai               39               27           1470\n",
              "12  1st Jan, 2018  Kolkata              350               26           1780\n",
              "13  1st Jan, 2019  Kolkata              400               24           1950\n",
              "14  1st Jan, 2020  Kolkata              350               25           1890\n",
              "15  1st Jan, 2021  Kolkata              281               26           1870"
            ],
            "text/html": [
              "\n",
              "  <div id=\"df-05625d5c-7118-402a-ba53-62c92b76971c\">\n",
              "    <div class=\"colab-df-container\">\n",
              "      <div>\n",
              "<style scoped>\n",
              "    .dataframe tbody tr th:only-of-type {\n",
              "        vertical-align: middle;\n",
              "    }\n",
              "\n",
              "    .dataframe tbody tr th {\n",
              "        vertical-align: top;\n",
              "    }\n",
              "\n",
              "    .dataframe thead th {\n",
              "        text-align: right;\n",
              "    }\n",
              "</style>\n",
              "<table border=\"1\" class=\"dataframe\">\n",
              "  <thead>\n",
              "    <tr style=\"text-align: right;\">\n",
              "      <th></th>\n",
              "      <th>Date</th>\n",
              "      <th>City</th>\n",
              "      <th>Pollution (AQI)</th>\n",
              "      <th>Temperature (C)</th>\n",
              "      <th>Rainfall (mm)</th>\n",
              "    </tr>\n",
              "  </thead>\n",
              "  <tbody>\n",
              "    <tr>\n",
              "      <th>9</th>\n",
              "      <td>1st Jan, 2019</td>\n",
              "      <td>Chennai</td>\n",
              "      <td>161</td>\n",
              "      <td>30</td>\n",
              "      <td>1460</td>\n",
              "    </tr>\n",
              "    <tr>\n",
              "      <th>10</th>\n",
              "      <td>1st Jan, 2020</td>\n",
              "      <td>Chennai</td>\n",
              "      <td>54</td>\n",
              "      <td>28</td>\n",
              "      <td>1590</td>\n",
              "    </tr>\n",
              "    <tr>\n",
              "      <th>11</th>\n",
              "      <td>1st Jan, 2021</td>\n",
              "      <td>Chennai</td>\n",
              "      <td>39</td>\n",
              "      <td>27</td>\n",
              "      <td>1470</td>\n",
              "    </tr>\n",
              "    <tr>\n",
              "      <th>12</th>\n",
              "      <td>1st Jan, 2018</td>\n",
              "      <td>Kolkata</td>\n",
              "      <td>350</td>\n",
              "      <td>26</td>\n",
              "      <td>1780</td>\n",
              "    </tr>\n",
              "    <tr>\n",
              "      <th>13</th>\n",
              "      <td>1st Jan, 2019</td>\n",
              "      <td>Kolkata</td>\n",
              "      <td>400</td>\n",
              "      <td>24</td>\n",
              "      <td>1950</td>\n",
              "    </tr>\n",
              "    <tr>\n",
              "      <th>14</th>\n",
              "      <td>1st Jan, 2020</td>\n",
              "      <td>Kolkata</td>\n",
              "      <td>350</td>\n",
              "      <td>25</td>\n",
              "      <td>1890</td>\n",
              "    </tr>\n",
              "    <tr>\n",
              "      <th>15</th>\n",
              "      <td>1st Jan, 2021</td>\n",
              "      <td>Kolkata</td>\n",
              "      <td>281</td>\n",
              "      <td>26</td>\n",
              "      <td>1870</td>\n",
              "    </tr>\n",
              "  </tbody>\n",
              "</table>\n",
              "</div>\n",
              "      <button class=\"colab-df-convert\" onclick=\"convertToInteractive('df-05625d5c-7118-402a-ba53-62c92b76971c')\"\n",
              "              title=\"Convert this dataframe to an interactive table.\"\n",
              "              style=\"display:none;\">\n",
              "        \n",
              "  <svg xmlns=\"http://www.w3.org/2000/svg\" height=\"24px\"viewBox=\"0 0 24 24\"\n",
              "       width=\"24px\">\n",
              "    <path d=\"M0 0h24v24H0V0z\" fill=\"none\"/>\n",
              "    <path d=\"M18.56 5.44l.94 2.06.94-2.06 2.06-.94-2.06-.94-.94-2.06-.94 2.06-2.06.94zm-11 1L8.5 8.5l.94-2.06 2.06-.94-2.06-.94L8.5 2.5l-.94 2.06-2.06.94zm10 10l.94 2.06.94-2.06 2.06-.94-2.06-.94-.94-2.06-.94 2.06-2.06.94z\"/><path d=\"M17.41 7.96l-1.37-1.37c-.4-.4-.92-.59-1.43-.59-.52 0-1.04.2-1.43.59L10.3 9.45l-7.72 7.72c-.78.78-.78 2.05 0 2.83L4 21.41c.39.39.9.59 1.41.59.51 0 1.02-.2 1.41-.59l7.78-7.78 2.81-2.81c.8-.78.8-2.07 0-2.86zM5.41 20L4 18.59l7.72-7.72 1.47 1.35L5.41 20z\"/>\n",
              "  </svg>\n",
              "      </button>\n",
              "      \n",
              "  <style>\n",
              "    .colab-df-container {\n",
              "      display:flex;\n",
              "      flex-wrap:wrap;\n",
              "      gap: 12px;\n",
              "    }\n",
              "\n",
              "    .colab-df-convert {\n",
              "      background-color: #E8F0FE;\n",
              "      border: none;\n",
              "      border-radius: 50%;\n",
              "      cursor: pointer;\n",
              "      display: none;\n",
              "      fill: #1967D2;\n",
              "      height: 32px;\n",
              "      padding: 0 0 0 0;\n",
              "      width: 32px;\n",
              "    }\n",
              "\n",
              "    .colab-df-convert:hover {\n",
              "      background-color: #E2EBFA;\n",
              "      box-shadow: 0px 1px 2px rgba(60, 64, 67, 0.3), 0px 1px 3px 1px rgba(60, 64, 67, 0.15);\n",
              "      fill: #174EA6;\n",
              "    }\n",
              "\n",
              "    [theme=dark] .colab-df-convert {\n",
              "      background-color: #3B4455;\n",
              "      fill: #D2E3FC;\n",
              "    }\n",
              "\n",
              "    [theme=dark] .colab-df-convert:hover {\n",
              "      background-color: #434B5C;\n",
              "      box-shadow: 0px 1px 3px 1px rgba(0, 0, 0, 0.15);\n",
              "      filter: drop-shadow(0px 1px 2px rgba(0, 0, 0, 0.3));\n",
              "      fill: #FFFFFF;\n",
              "    }\n",
              "  </style>\n",
              "\n",
              "      <script>\n",
              "        const buttonEl =\n",
              "          document.querySelector('#df-05625d5c-7118-402a-ba53-62c92b76971c button.colab-df-convert');\n",
              "        buttonEl.style.display =\n",
              "          google.colab.kernel.accessAllowed ? 'block' : 'none';\n",
              "\n",
              "        async function convertToInteractive(key) {\n",
              "          const element = document.querySelector('#df-05625d5c-7118-402a-ba53-62c92b76971c');\n",
              "          const dataTable =\n",
              "            await google.colab.kernel.invokeFunction('convertToInteractive',\n",
              "                                                     [key], {});\n",
              "          if (!dataTable) return;\n",
              "\n",
              "          const docLinkHtml = 'Like what you see? Visit the ' +\n",
              "            '<a target=\"_blank\" href=https://colab.research.google.com/notebooks/data_table.ipynb>data table notebook</a>'\n",
              "            + ' to learn more about interactive tables.';\n",
              "          element.innerHTML = '';\n",
              "          dataTable['output_type'] = 'display_data';\n",
              "          await google.colab.output.renderOutput(dataTable, element);\n",
              "          const docLink = document.createElement('div');\n",
              "          docLink.innerHTML = docLinkHtml;\n",
              "          element.appendChild(docLink);\n",
              "        }\n",
              "      </script>\n",
              "    </div>\n",
              "  </div>\n",
              "  "
            ]
          },
          "metadata": {},
          "execution_count": 18
        }
      ]
    },
    {
      "cell_type": "markdown",
      "source": [
        "# **PYTHON DATA OPERATIONS**"
      ],
      "metadata": {
        "id": "ymal-tHilVzN"
      }
    },
    {
      "cell_type": "markdown",
      "source": [
        "## 1.Merging Dataframes (Pandas)"
      ],
      "metadata": {
        "id": "55frJzO7lW-x"
      }
    },
    {
      "cell_type": "markdown",
      "source": [
        "A) Inner Merge"
      ],
      "metadata": {
        "id": "wxpm_6Rtlcum"
      }
    },
    {
      "cell_type": "code",
      "source": [
        "# importing pandas library\n",
        "import pandas as pd \n",
        " \n",
        "# Define a dictionary containing organ donor data \n",
        "data1 = {'key': ['K0', 'K1', 'K2', 'K3'],\n",
        "         'key1': ['K0', 'K1', 'K0', 'K1'],\n",
        "         'Name':['Somya', 'Aditya', 'Pratham', 'Raj'], \n",
        "        'Age':[27, 24, 22, 32],} \n",
        "   \n",
        "# Define a dictionary containing organ donor data \n",
        "data2 = {'key': ['K0', 'K1', 'K2', 'K3'],\n",
        "         'key1': ['K0', 'K0', 'K0', 'K0'],\n",
        "         'Organ Donor':['Yes', 'No', 'No', 'Yes'], \n",
        "        'Blood Group':['AB-', 'O+', 'A+', 'AB+']} \n",
        " \n",
        "# Convert the dictionary into DataFrame  \n",
        "df1 = pd.DataFrame(data1)\n",
        " \n",
        "# Convert the dictionary into DataFrame  \n",
        "df2 = pd.DataFrame(data2) \n",
        "  \n",
        " \n",
        "print(df1, \"\\n\\n\", df2,\"\\n\") \n",
        "\n",
        "# using keys from left frame\n",
        "res = pd.merge(df1, df2, how='inner', on=['key', 'key1'])\n",
        "print(res)"
      ],
      "metadata": {
        "colab": {
          "base_uri": "https://localhost:8080/"
        },
        "id": "nFlZ1sbilgLW",
        "outputId": "8b5afedb-9ae1-411c-aee9-4b00746a3301"
      },
      "execution_count": null,
      "outputs": [
        {
          "output_type": "stream",
          "name": "stdout",
          "text": [
            "  key key1     Name  Age\n",
            "0  K0   K0    Somya   27\n",
            "1  K1   K1   Aditya   24\n",
            "2  K2   K0  Pratham   22\n",
            "3  K3   K1      Raj   32 \n",
            "\n",
            "   key key1 Organ Donor Blood Group\n",
            "0  K0   K0         Yes         AB-\n",
            "1  K1   K0          No          O+\n",
            "2  K2   K0          No          A+\n",
            "3  K3   K0         Yes         AB+ \n",
            "\n",
            "  key key1     Name  Age Organ Donor Blood Group\n",
            "0  K0   K0    Somya   27         Yes         AB-\n",
            "1  K2   K0  Pratham   22          No          A+\n"
          ]
        }
      ]
    },
    {
      "cell_type": "markdown",
      "source": [
        "B) Outer Merge"
      ],
      "metadata": {
        "id": "U8mWf0Wtlmp3"
      }
    },
    {
      "cell_type": "code",
      "source": [
        "res = pd.merge(df1, df2, how='outer', on=['key', 'key1'])\n",
        "print(res)"
      ],
      "metadata": {
        "colab": {
          "base_uri": "https://localhost:8080/"
        },
        "id": "a76dq9Mwoyes",
        "outputId": "9a2f3956-0f34-41e2-f034-2d37b2753337"
      },
      "execution_count": null,
      "outputs": [
        {
          "output_type": "stream",
          "name": "stdout",
          "text": [
            "  key key1     Name   Age Organ Donor Blood Group\n",
            "0  K0   K0    Somya  27.0         Yes         AB-\n",
            "1  K1   K1   Aditya  24.0         NaN         NaN\n",
            "2  K2   K0  Pratham  22.0          No          A+\n",
            "3  K3   K1      Raj  32.0         NaN         NaN\n",
            "4  K1   K0      NaN   NaN          No          O+\n",
            "5  K3   K0      NaN   NaN         Yes         AB+\n"
          ]
        }
      ]
    },
    {
      "cell_type": "markdown",
      "source": [
        "C) Left Merge "
      ],
      "metadata": {
        "id": "mS_KZ7M1okmQ"
      }
    },
    {
      "cell_type": "code",
      "source": [
        "res = pd.merge(df1, df2, how='left', on=['key', 'key1'])\n",
        "print(res)"
      ],
      "metadata": {
        "colab": {
          "base_uri": "https://localhost:8080/"
        },
        "id": "lXvMjHR7o44d",
        "outputId": "7757562f-a1b9-429a-b5df-9939116d226e"
      },
      "execution_count": null,
      "outputs": [
        {
          "output_type": "stream",
          "name": "stdout",
          "text": [
            "  key key1     Name  Age Organ Donor Blood Group\n",
            "0  K0   K0    Somya   27         Yes         AB-\n",
            "1  K1   K1   Aditya   24         NaN         NaN\n",
            "2  K2   K0  Pratham   22          No          A+\n",
            "3  K3   K1      Raj   32         NaN         NaN\n"
          ]
        }
      ]
    },
    {
      "cell_type": "markdown",
      "source": [
        "D) Right Merge "
      ],
      "metadata": {
        "id": "qIMSsEKSonEb"
      }
    },
    {
      "cell_type": "code",
      "source": [
        "res = pd.merge(df1, df2, how='right', on=['key', 'key1'])\n",
        "print(res)"
      ],
      "metadata": {
        "colab": {
          "base_uri": "https://localhost:8080/"
        },
        "id": "zOQqWEbio7-2",
        "outputId": "080cb4df-128b-4883-ccd8-2349c9d58f43"
      },
      "execution_count": null,
      "outputs": [
        {
          "output_type": "stream",
          "name": "stdout",
          "text": [
            "  key key1     Name   Age  Flight No. Destination\n",
            "0  K0   K0    Harsh  27.0        4566     Chicago\n",
            "1  K1   K0      NaN   NaN        3456       Tokyo\n",
            "2  K2   K0  Samaira  22.0        2344      Mumbai\n",
            "3  K3   K0      NaN   NaN        4354      Sydney\n"
          ]
        }
      ]
    },
    {
      "cell_type": "markdown",
      "source": [
        "## 2.Concatenation of DataFrames (Pandas)"
      ],
      "metadata": {
        "id": "nWOXgaBYpF3q"
      }
    },
    {
      "cell_type": "markdown",
      "source": [
        "A) Concatenate (to get one data frame)"
      ],
      "metadata": {
        "id": "rrrIvzVvpL6u"
      }
    },
    {
      "cell_type": "code",
      "source": [
        "# importing pandas library\n",
        "import pandas as pd \n",
        " \n",
        "# Define a dictionary containing organ donor data \n",
        "data1 = {'Name':['Somya', 'Aditya', 'Pratham', 'Raj'], \n",
        "        'Age':[20, 19, 22, 18], \n",
        "       'Organ Donor':['Yes', 'No', 'No', 'Yes'],\n",
        "       'Blood Group':['AB+', 'O+', 'AB+', 'AB-']} \n",
        "   \n",
        "# Define a dictionary containing organ donor data\n",
        "data2 = {'Name':['Rohan', 'Mayank', 'Sunit', 'Sammy'], \n",
        "        'Age':[20, 19, 21, 20], \n",
        "      'Organ Donor':['No', 'No', 'No', 'Yes'], \n",
        "        'Blood Group':['A+', 'O+', 'B+', 'AB-']} \n",
        " \n",
        "# Convert the dictionary into DataFrame  \n",
        "df1 = pd.DataFrame(data1,index=[0, 1, 2, 3])\n",
        " \n",
        "# Convert the dictionary into DataFrame  \n",
        "df2 = pd.DataFrame(data2, index=[4, 5, 6, 7])\n",
        " \n",
        "print(df1, \"\\n\\n\", df2, \"\\n\") \n",
        "\n",
        "# using a .concat() method\n",
        "res = pd.concat([df1,df2])\n",
        "print(res)"
      ],
      "metadata": {
        "colab": {
          "base_uri": "https://localhost:8080/"
        },
        "id": "zB-1CTwNpLLo",
        "outputId": "1ee067ac-11a9-46c8-8630-f728b60439a9"
      },
      "execution_count": null,
      "outputs": [
        {
          "output_type": "stream",
          "name": "stdout",
          "text": [
            "      Name  Age Organ Donor Blood Group\n",
            "0    Somya   20         Yes         AB+\n",
            "1   Aditya   19          No          O+\n",
            "2  Pratham   22          No         AB+\n",
            "3      Raj   18         Yes         AB- \n",
            "\n",
            "      Name  Age Organ Donor Blood Group\n",
            "4   Rohan   20          No          A+\n",
            "5  Mayank   19          No          O+\n",
            "6   Sunit   21          No          B+\n",
            "7   Sammy   20         Yes         AB- \n",
            "\n",
            "      Name  Age Organ Donor Blood Group\n",
            "0    Somya   20         Yes         AB+\n",
            "1   Aditya   19          No          O+\n",
            "2  Pratham   22          No         AB+\n",
            "3      Raj   18         Yes         AB-\n",
            "4    Rohan   20          No          A+\n",
            "5   Mayank   19          No          O+\n",
            "6    Sunit   21          No          B+\n",
            "7    Sammy   20         Yes         AB-\n"
          ]
        }
      ]
    },
    {
      "cell_type": "markdown",
      "source": [
        "B) Concatenate (to get one dataframe - side by side)"
      ],
      "metadata": {
        "id": "oDMi2BLZpeMO"
      }
    },
    {
      "cell_type": "code",
      "source": [
        "res = pd.concat([df1,df2], axis=1)\n",
        "print(res)"
      ],
      "metadata": {
        "colab": {
          "base_uri": "https://localhost:8080/"
        },
        "id": "UIObLkHPpe-L",
        "outputId": "6f49d2d2-6e4c-4788-8879-fff018031663"
      },
      "execution_count": null,
      "outputs": [
        {
          "output_type": "stream",
          "name": "stdout",
          "text": [
            "      Name   Age Organ Donor Blood Group    Name   Age Organ Donor Blood Group\n",
            "0    Somya  20.0         Yes         AB+     NaN   NaN         NaN         NaN\n",
            "1   Aditya  19.0          No          O+     NaN   NaN         NaN         NaN\n",
            "2  Pratham  22.0          No         AB+     NaN   NaN         NaN         NaN\n",
            "3      Raj  18.0         Yes         AB-     NaN   NaN         NaN         NaN\n",
            "4      NaN   NaN         NaN         NaN   Rohan  20.0          No          A+\n",
            "5      NaN   NaN         NaN         NaN  Mayank  19.0          No          O+\n",
            "6      NaN   NaN         NaN         NaN   Sunit  21.0          No          B+\n",
            "7      NaN   NaN         NaN         NaN   Sammy  20.0         Yes         AB-\n"
          ]
        }
      ]
    },
    {
      "cell_type": "markdown",
      "source": [
        "## 3.Pivoting Dataframes"
      ],
      "metadata": {
        "id": "Be69uA74byft"
      }
    },
    {
      "cell_type": "markdown",
      "source": [
        "A) Pivot Dataframe (Single Index)"
      ],
      "metadata": {
        "id": "3xFx6n8lqUmW"
      }
    },
    {
      "cell_type": "code",
      "source": [
        "# import python libraries\n",
        "import pandas as pd\n",
        "\n",
        "# Display Original Dataset\n",
        "print(f, '\\n\\n')\n",
        "\n",
        "# Pivot Dataset\n",
        "df = f.pivot(index='Date', columns='City')\n",
        "\n",
        "# Display pivoted Dataset\n",
        "df"
      ],
      "metadata": {
        "colab": {
          "base_uri": "https://localhost:8080/",
          "height": 567
        },
        "id": "UXLEn0mTqVhX",
        "outputId": "efae2e59-3a28-43a7-a9f7-aa1ad086d81f"
      },
      "execution_count": null,
      "outputs": [
        {
          "output_type": "stream",
          "name": "stdout",
          "text": [
            "             Date     City  Pollution (AQI)  Temperature (C)  Rainfall (mm)\n",
            "0   1st Jan, 2018   Mumbai              285               27           1780\n",
            "1   1st Jan, 2019   Mumbai              263               32           1870\n",
            "2   1st Jan, 2020   Mumbai              248               29           1800\n",
            "3   1st Jan, 2021   Mumbai              178               30           1750\n",
            "4   1st Jan, 2018    Delhi              463               19            638\n",
            "5   1st Jan, 2019    Delhi              439               15            600\n",
            "6   1st Jan, 2020    Delhi              430               17            640\n",
            "7   1st Jan, 2021    Delhi              406               19            625\n",
            "8   1st Jan, 2018  Chennai              105               29           1520\n",
            "9   1st Jan, 2019  Chennai              161               30           1460\n",
            "10  1st Jan, 2020  Chennai               54               28           1590\n",
            "11  1st Jan, 2021  Chennai               39               27           1470\n",
            "12  1st Jan, 2018  Kolkata              350               26           1780\n",
            "13  1st Jan, 2019  Kolkata              400               24           1950\n",
            "14  1st Jan, 2020  Kolkata              350               25           1890\n",
            "15  1st Jan, 2021  Kolkata              281               26           1870 \n",
            "\n",
            "\n"
          ]
        },
        {
          "output_type": "execute_result",
          "data": {
            "text/plain": [
              "              Pollution (AQI)                      Temperature (C)        \\\n",
              "City                  Chennai Delhi Kolkata Mumbai         Chennai Delhi   \n",
              "Date                                                                       \n",
              "1st Jan, 2018             105   463     350    285              29    19   \n",
              "1st Jan, 2019             161   439     400    263              30    15   \n",
              "1st Jan, 2020              54   430     350    248              28    17   \n",
              "1st Jan, 2021              39   406     281    178              27    19   \n",
              "\n",
              "                             Rainfall (mm)                       \n",
              "City          Kolkata Mumbai       Chennai Delhi Kolkata Mumbai  \n",
              "Date                                                             \n",
              "1st Jan, 2018      26     27          1520   638    1780   1780  \n",
              "1st Jan, 2019      24     32          1460   600    1950   1870  \n",
              "1st Jan, 2020      25     29          1590   640    1890   1800  \n",
              "1st Jan, 2021      26     30          1470   625    1870   1750  "
            ],
            "text/html": [
              "\n",
              "  <div id=\"df-4159d137-adf7-4ddb-b2c0-5ed0b487adeb\">\n",
              "    <div class=\"colab-df-container\">\n",
              "      <div>\n",
              "<style scoped>\n",
              "    .dataframe tbody tr th:only-of-type {\n",
              "        vertical-align: middle;\n",
              "    }\n",
              "\n",
              "    .dataframe tbody tr th {\n",
              "        vertical-align: top;\n",
              "    }\n",
              "\n",
              "    .dataframe thead tr th {\n",
              "        text-align: left;\n",
              "    }\n",
              "\n",
              "    .dataframe thead tr:last-of-type th {\n",
              "        text-align: right;\n",
              "    }\n",
              "</style>\n",
              "<table border=\"1\" class=\"dataframe\">\n",
              "  <thead>\n",
              "    <tr>\n",
              "      <th></th>\n",
              "      <th colspan=\"4\" halign=\"left\">Pollution (AQI)</th>\n",
              "      <th colspan=\"4\" halign=\"left\">Temperature (C)</th>\n",
              "      <th colspan=\"4\" halign=\"left\">Rainfall (mm)</th>\n",
              "    </tr>\n",
              "    <tr>\n",
              "      <th>City</th>\n",
              "      <th>Chennai</th>\n",
              "      <th>Delhi</th>\n",
              "      <th>Kolkata</th>\n",
              "      <th>Mumbai</th>\n",
              "      <th>Chennai</th>\n",
              "      <th>Delhi</th>\n",
              "      <th>Kolkata</th>\n",
              "      <th>Mumbai</th>\n",
              "      <th>Chennai</th>\n",
              "      <th>Delhi</th>\n",
              "      <th>Kolkata</th>\n",
              "      <th>Mumbai</th>\n",
              "    </tr>\n",
              "    <tr>\n",
              "      <th>Date</th>\n",
              "      <th></th>\n",
              "      <th></th>\n",
              "      <th></th>\n",
              "      <th></th>\n",
              "      <th></th>\n",
              "      <th></th>\n",
              "      <th></th>\n",
              "      <th></th>\n",
              "      <th></th>\n",
              "      <th></th>\n",
              "      <th></th>\n",
              "      <th></th>\n",
              "    </tr>\n",
              "  </thead>\n",
              "  <tbody>\n",
              "    <tr>\n",
              "      <th>1st Jan, 2018</th>\n",
              "      <td>105</td>\n",
              "      <td>463</td>\n",
              "      <td>350</td>\n",
              "      <td>285</td>\n",
              "      <td>29</td>\n",
              "      <td>19</td>\n",
              "      <td>26</td>\n",
              "      <td>27</td>\n",
              "      <td>1520</td>\n",
              "      <td>638</td>\n",
              "      <td>1780</td>\n",
              "      <td>1780</td>\n",
              "    </tr>\n",
              "    <tr>\n",
              "      <th>1st Jan, 2019</th>\n",
              "      <td>161</td>\n",
              "      <td>439</td>\n",
              "      <td>400</td>\n",
              "      <td>263</td>\n",
              "      <td>30</td>\n",
              "      <td>15</td>\n",
              "      <td>24</td>\n",
              "      <td>32</td>\n",
              "      <td>1460</td>\n",
              "      <td>600</td>\n",
              "      <td>1950</td>\n",
              "      <td>1870</td>\n",
              "    </tr>\n",
              "    <tr>\n",
              "      <th>1st Jan, 2020</th>\n",
              "      <td>54</td>\n",
              "      <td>430</td>\n",
              "      <td>350</td>\n",
              "      <td>248</td>\n",
              "      <td>28</td>\n",
              "      <td>17</td>\n",
              "      <td>25</td>\n",
              "      <td>29</td>\n",
              "      <td>1590</td>\n",
              "      <td>640</td>\n",
              "      <td>1890</td>\n",
              "      <td>1800</td>\n",
              "    </tr>\n",
              "    <tr>\n",
              "      <th>1st Jan, 2021</th>\n",
              "      <td>39</td>\n",
              "      <td>406</td>\n",
              "      <td>281</td>\n",
              "      <td>178</td>\n",
              "      <td>27</td>\n",
              "      <td>19</td>\n",
              "      <td>26</td>\n",
              "      <td>30</td>\n",
              "      <td>1470</td>\n",
              "      <td>625</td>\n",
              "      <td>1870</td>\n",
              "      <td>1750</td>\n",
              "    </tr>\n",
              "  </tbody>\n",
              "</table>\n",
              "</div>\n",
              "      <button class=\"colab-df-convert\" onclick=\"convertToInteractive('df-4159d137-adf7-4ddb-b2c0-5ed0b487adeb')\"\n",
              "              title=\"Convert this dataframe to an interactive table.\"\n",
              "              style=\"display:none;\">\n",
              "        \n",
              "  <svg xmlns=\"http://www.w3.org/2000/svg\" height=\"24px\"viewBox=\"0 0 24 24\"\n",
              "       width=\"24px\">\n",
              "    <path d=\"M0 0h24v24H0V0z\" fill=\"none\"/>\n",
              "    <path d=\"M18.56 5.44l.94 2.06.94-2.06 2.06-.94-2.06-.94-.94-2.06-.94 2.06-2.06.94zm-11 1L8.5 8.5l.94-2.06 2.06-.94-2.06-.94L8.5 2.5l-.94 2.06-2.06.94zm10 10l.94 2.06.94-2.06 2.06-.94-2.06-.94-.94-2.06-.94 2.06-2.06.94z\"/><path d=\"M17.41 7.96l-1.37-1.37c-.4-.4-.92-.59-1.43-.59-.52 0-1.04.2-1.43.59L10.3 9.45l-7.72 7.72c-.78.78-.78 2.05 0 2.83L4 21.41c.39.39.9.59 1.41.59.51 0 1.02-.2 1.41-.59l7.78-7.78 2.81-2.81c.8-.78.8-2.07 0-2.86zM5.41 20L4 18.59l7.72-7.72 1.47 1.35L5.41 20z\"/>\n",
              "  </svg>\n",
              "      </button>\n",
              "      \n",
              "  <style>\n",
              "    .colab-df-container {\n",
              "      display:flex;\n",
              "      flex-wrap:wrap;\n",
              "      gap: 12px;\n",
              "    }\n",
              "\n",
              "    .colab-df-convert {\n",
              "      background-color: #E8F0FE;\n",
              "      border: none;\n",
              "      border-radius: 50%;\n",
              "      cursor: pointer;\n",
              "      display: none;\n",
              "      fill: #1967D2;\n",
              "      height: 32px;\n",
              "      padding: 0 0 0 0;\n",
              "      width: 32px;\n",
              "    }\n",
              "\n",
              "    .colab-df-convert:hover {\n",
              "      background-color: #E2EBFA;\n",
              "      box-shadow: 0px 1px 2px rgba(60, 64, 67, 0.3), 0px 1px 3px 1px rgba(60, 64, 67, 0.15);\n",
              "      fill: #174EA6;\n",
              "    }\n",
              "\n",
              "    [theme=dark] .colab-df-convert {\n",
              "      background-color: #3B4455;\n",
              "      fill: #D2E3FC;\n",
              "    }\n",
              "\n",
              "    [theme=dark] .colab-df-convert:hover {\n",
              "      background-color: #434B5C;\n",
              "      box-shadow: 0px 1px 3px 1px rgba(0, 0, 0, 0.15);\n",
              "      filter: drop-shadow(0px 1px 2px rgba(0, 0, 0, 0.3));\n",
              "      fill: #FFFFFF;\n",
              "    }\n",
              "  </style>\n",
              "\n",
              "      <script>\n",
              "        const buttonEl =\n",
              "          document.querySelector('#df-4159d137-adf7-4ddb-b2c0-5ed0b487adeb button.colab-df-convert');\n",
              "        buttonEl.style.display =\n",
              "          google.colab.kernel.accessAllowed ? 'block' : 'none';\n",
              "\n",
              "        async function convertToInteractive(key) {\n",
              "          const element = document.querySelector('#df-4159d137-adf7-4ddb-b2c0-5ed0b487adeb');\n",
              "          const dataTable =\n",
              "            await google.colab.kernel.invokeFunction('convertToInteractive',\n",
              "                                                     [key], {});\n",
              "          if (!dataTable) return;\n",
              "\n",
              "          const docLinkHtml = 'Like what you see? Visit the ' +\n",
              "            '<a target=\"_blank\" href=https://colab.research.google.com/notebooks/data_table.ipynb>data table notebook</a>'\n",
              "            + ' to learn more about interactive tables.';\n",
              "          element.innerHTML = '';\n",
              "          dataTable['output_type'] = 'display_data';\n",
              "          await google.colab.output.renderOutput(dataTable, element);\n",
              "          const docLink = document.createElement('div');\n",
              "          docLink.innerHTML = docLinkHtml;\n",
              "          element.appendChild(docLink);\n",
              "        }\n",
              "      </script>\n",
              "    </div>\n",
              "  </div>\n",
              "  "
            ]
          },
          "metadata": {},
          "execution_count": 22
        }
      ]
    },
    {
      "cell_type": "markdown",
      "source": [
        "B) Pivot Dataframe (Multiple Index)"
      ],
      "metadata": {
        "id": "aRZPIR1arq5D"
      }
    },
    {
      "cell_type": "code",
      "source": [
        "# import python libraries\n",
        "import pandas as pd\n",
        "\n",
        "# Display Original Dataset\n",
        "print(f, '\\n\\n')\n",
        "\n",
        "# Pivot Dataset\n",
        "df = f.pivot_table(index=['City','Date'])\n",
        "\n",
        "# Display Pivoted Dataframe\n",
        "df"
      ],
      "metadata": {
        "colab": {
          "base_uri": "https://localhost:8080/",
          "height": 912
        },
        "id": "yva1LjSPrrqt",
        "outputId": "f2b88c12-49bb-4049-bc50-edfad1a4b745"
      },
      "execution_count": null,
      "outputs": [
        {
          "output_type": "stream",
          "name": "stdout",
          "text": [
            "             Date     City  Pollution (AQI)  Temperature (C)  Rainfall (mm)\n",
            "0   1st Jan, 2018   Mumbai              285               27           1780\n",
            "1   1st Jan, 2019   Mumbai              263               32           1870\n",
            "2   1st Jan, 2020   Mumbai              248               29           1800\n",
            "3   1st Jan, 2021   Mumbai              178               30           1750\n",
            "4   1st Jan, 2018    Delhi              463               19            638\n",
            "5   1st Jan, 2019    Delhi              439               15            600\n",
            "6   1st Jan, 2020    Delhi              430               17            640\n",
            "7   1st Jan, 2021    Delhi              406               19            625\n",
            "8   1st Jan, 2018  Chennai              105               29           1520\n",
            "9   1st Jan, 2019  Chennai              161               30           1460\n",
            "10  1st Jan, 2020  Chennai               54               28           1590\n",
            "11  1st Jan, 2021  Chennai               39               27           1470\n",
            "12  1st Jan, 2018  Kolkata              350               26           1780\n",
            "13  1st Jan, 2019  Kolkata              400               24           1950\n",
            "14  1st Jan, 2020  Kolkata              350               25           1890\n",
            "15  1st Jan, 2021  Kolkata              281               26           1870 \n",
            "\n",
            "\n"
          ]
        },
        {
          "output_type": "execute_result",
          "data": {
            "text/plain": [
              "                       Pollution (AQI)  Rainfall (mm)  Temperature (C)\n",
              "City    Date                                                          \n",
              "Chennai 1st Jan, 2018              105           1520               29\n",
              "        1st Jan, 2019              161           1460               30\n",
              "        1st Jan, 2020               54           1590               28\n",
              "        1st Jan, 2021               39           1470               27\n",
              "Delhi   1st Jan, 2018              463            638               19\n",
              "        1st Jan, 2019              439            600               15\n",
              "        1st Jan, 2020              430            640               17\n",
              "        1st Jan, 2021              406            625               19\n",
              "Kolkata 1st Jan, 2018              350           1780               26\n",
              "        1st Jan, 2019              400           1950               24\n",
              "        1st Jan, 2020              350           1890               25\n",
              "        1st Jan, 2021              281           1870               26\n",
              "Mumbai  1st Jan, 2018              285           1780               27\n",
              "        1st Jan, 2019              263           1870               32\n",
              "        1st Jan, 2020              248           1800               29\n",
              "        1st Jan, 2021              178           1750               30"
            ],
            "text/html": [
              "\n",
              "  <div id=\"df-3c502923-cc6d-42e6-9dd7-40bea82fe11a\">\n",
              "    <div class=\"colab-df-container\">\n",
              "      <div>\n",
              "<style scoped>\n",
              "    .dataframe tbody tr th:only-of-type {\n",
              "        vertical-align: middle;\n",
              "    }\n",
              "\n",
              "    .dataframe tbody tr th {\n",
              "        vertical-align: top;\n",
              "    }\n",
              "\n",
              "    .dataframe thead th {\n",
              "        text-align: right;\n",
              "    }\n",
              "</style>\n",
              "<table border=\"1\" class=\"dataframe\">\n",
              "  <thead>\n",
              "    <tr style=\"text-align: right;\">\n",
              "      <th></th>\n",
              "      <th></th>\n",
              "      <th>Pollution (AQI)</th>\n",
              "      <th>Rainfall (mm)</th>\n",
              "      <th>Temperature (C)</th>\n",
              "    </tr>\n",
              "    <tr>\n",
              "      <th>City</th>\n",
              "      <th>Date</th>\n",
              "      <th></th>\n",
              "      <th></th>\n",
              "      <th></th>\n",
              "    </tr>\n",
              "  </thead>\n",
              "  <tbody>\n",
              "    <tr>\n",
              "      <th rowspan=\"4\" valign=\"top\">Chennai</th>\n",
              "      <th>1st Jan, 2018</th>\n",
              "      <td>105</td>\n",
              "      <td>1520</td>\n",
              "      <td>29</td>\n",
              "    </tr>\n",
              "    <tr>\n",
              "      <th>1st Jan, 2019</th>\n",
              "      <td>161</td>\n",
              "      <td>1460</td>\n",
              "      <td>30</td>\n",
              "    </tr>\n",
              "    <tr>\n",
              "      <th>1st Jan, 2020</th>\n",
              "      <td>54</td>\n",
              "      <td>1590</td>\n",
              "      <td>28</td>\n",
              "    </tr>\n",
              "    <tr>\n",
              "      <th>1st Jan, 2021</th>\n",
              "      <td>39</td>\n",
              "      <td>1470</td>\n",
              "      <td>27</td>\n",
              "    </tr>\n",
              "    <tr>\n",
              "      <th rowspan=\"4\" valign=\"top\">Delhi</th>\n",
              "      <th>1st Jan, 2018</th>\n",
              "      <td>463</td>\n",
              "      <td>638</td>\n",
              "      <td>19</td>\n",
              "    </tr>\n",
              "    <tr>\n",
              "      <th>1st Jan, 2019</th>\n",
              "      <td>439</td>\n",
              "      <td>600</td>\n",
              "      <td>15</td>\n",
              "    </tr>\n",
              "    <tr>\n",
              "      <th>1st Jan, 2020</th>\n",
              "      <td>430</td>\n",
              "      <td>640</td>\n",
              "      <td>17</td>\n",
              "    </tr>\n",
              "    <tr>\n",
              "      <th>1st Jan, 2021</th>\n",
              "      <td>406</td>\n",
              "      <td>625</td>\n",
              "      <td>19</td>\n",
              "    </tr>\n",
              "    <tr>\n",
              "      <th rowspan=\"4\" valign=\"top\">Kolkata</th>\n",
              "      <th>1st Jan, 2018</th>\n",
              "      <td>350</td>\n",
              "      <td>1780</td>\n",
              "      <td>26</td>\n",
              "    </tr>\n",
              "    <tr>\n",
              "      <th>1st Jan, 2019</th>\n",
              "      <td>400</td>\n",
              "      <td>1950</td>\n",
              "      <td>24</td>\n",
              "    </tr>\n",
              "    <tr>\n",
              "      <th>1st Jan, 2020</th>\n",
              "      <td>350</td>\n",
              "      <td>1890</td>\n",
              "      <td>25</td>\n",
              "    </tr>\n",
              "    <tr>\n",
              "      <th>1st Jan, 2021</th>\n",
              "      <td>281</td>\n",
              "      <td>1870</td>\n",
              "      <td>26</td>\n",
              "    </tr>\n",
              "    <tr>\n",
              "      <th rowspan=\"4\" valign=\"top\">Mumbai</th>\n",
              "      <th>1st Jan, 2018</th>\n",
              "      <td>285</td>\n",
              "      <td>1780</td>\n",
              "      <td>27</td>\n",
              "    </tr>\n",
              "    <tr>\n",
              "      <th>1st Jan, 2019</th>\n",
              "      <td>263</td>\n",
              "      <td>1870</td>\n",
              "      <td>32</td>\n",
              "    </tr>\n",
              "    <tr>\n",
              "      <th>1st Jan, 2020</th>\n",
              "      <td>248</td>\n",
              "      <td>1800</td>\n",
              "      <td>29</td>\n",
              "    </tr>\n",
              "    <tr>\n",
              "      <th>1st Jan, 2021</th>\n",
              "      <td>178</td>\n",
              "      <td>1750</td>\n",
              "      <td>30</td>\n",
              "    </tr>\n",
              "  </tbody>\n",
              "</table>\n",
              "</div>\n",
              "      <button class=\"colab-df-convert\" onclick=\"convertToInteractive('df-3c502923-cc6d-42e6-9dd7-40bea82fe11a')\"\n",
              "              title=\"Convert this dataframe to an interactive table.\"\n",
              "              style=\"display:none;\">\n",
              "        \n",
              "  <svg xmlns=\"http://www.w3.org/2000/svg\" height=\"24px\"viewBox=\"0 0 24 24\"\n",
              "       width=\"24px\">\n",
              "    <path d=\"M0 0h24v24H0V0z\" fill=\"none\"/>\n",
              "    <path d=\"M18.56 5.44l.94 2.06.94-2.06 2.06-.94-2.06-.94-.94-2.06-.94 2.06-2.06.94zm-11 1L8.5 8.5l.94-2.06 2.06-.94-2.06-.94L8.5 2.5l-.94 2.06-2.06.94zm10 10l.94 2.06.94-2.06 2.06-.94-2.06-.94-.94-2.06-.94 2.06-2.06.94z\"/><path d=\"M17.41 7.96l-1.37-1.37c-.4-.4-.92-.59-1.43-.59-.52 0-1.04.2-1.43.59L10.3 9.45l-7.72 7.72c-.78.78-.78 2.05 0 2.83L4 21.41c.39.39.9.59 1.41.59.51 0 1.02-.2 1.41-.59l7.78-7.78 2.81-2.81c.8-.78.8-2.07 0-2.86zM5.41 20L4 18.59l7.72-7.72 1.47 1.35L5.41 20z\"/>\n",
              "  </svg>\n",
              "      </button>\n",
              "      \n",
              "  <style>\n",
              "    .colab-df-container {\n",
              "      display:flex;\n",
              "      flex-wrap:wrap;\n",
              "      gap: 12px;\n",
              "    }\n",
              "\n",
              "    .colab-df-convert {\n",
              "      background-color: #E8F0FE;\n",
              "      border: none;\n",
              "      border-radius: 50%;\n",
              "      cursor: pointer;\n",
              "      display: none;\n",
              "      fill: #1967D2;\n",
              "      height: 32px;\n",
              "      padding: 0 0 0 0;\n",
              "      width: 32px;\n",
              "    }\n",
              "\n",
              "    .colab-df-convert:hover {\n",
              "      background-color: #E2EBFA;\n",
              "      box-shadow: 0px 1px 2px rgba(60, 64, 67, 0.3), 0px 1px 3px 1px rgba(60, 64, 67, 0.15);\n",
              "      fill: #174EA6;\n",
              "    }\n",
              "\n",
              "    [theme=dark] .colab-df-convert {\n",
              "      background-color: #3B4455;\n",
              "      fill: #D2E3FC;\n",
              "    }\n",
              "\n",
              "    [theme=dark] .colab-df-convert:hover {\n",
              "      background-color: #434B5C;\n",
              "      box-shadow: 0px 1px 3px 1px rgba(0, 0, 0, 0.15);\n",
              "      filter: drop-shadow(0px 1px 2px rgba(0, 0, 0, 0.3));\n",
              "      fill: #FFFFFF;\n",
              "    }\n",
              "  </style>\n",
              "\n",
              "      <script>\n",
              "        const buttonEl =\n",
              "          document.querySelector('#df-3c502923-cc6d-42e6-9dd7-40bea82fe11a button.colab-df-convert');\n",
              "        buttonEl.style.display =\n",
              "          google.colab.kernel.accessAllowed ? 'block' : 'none';\n",
              "\n",
              "        async function convertToInteractive(key) {\n",
              "          const element = document.querySelector('#df-3c502923-cc6d-42e6-9dd7-40bea82fe11a');\n",
              "          const dataTable =\n",
              "            await google.colab.kernel.invokeFunction('convertToInteractive',\n",
              "                                                     [key], {});\n",
              "          if (!dataTable) return;\n",
              "\n",
              "          const docLinkHtml = 'Like what you see? Visit the ' +\n",
              "            '<a target=\"_blank\" href=https://colab.research.google.com/notebooks/data_table.ipynb>data table notebook</a>'\n",
              "            + ' to learn more about interactive tables.';\n",
              "          element.innerHTML = '';\n",
              "          dataTable['output_type'] = 'display_data';\n",
              "          await google.colab.output.renderOutput(dataTable, element);\n",
              "          const docLink = document.createElement('div');\n",
              "          docLink.innerHTML = docLinkHtml;\n",
              "          element.appendChild(docLink);\n",
              "        }\n",
              "      </script>\n",
              "    </div>\n",
              "  </div>\n",
              "  "
            ]
          },
          "metadata": {},
          "execution_count": 23
        }
      ]
    },
    {
      "cell_type": "markdown",
      "source": [
        "Info about data "
      ],
      "metadata": {
        "id": "T7if7xrMs2xR"
      }
    },
    {
      "cell_type": "code",
      "source": [
        "f.info()"
      ],
      "metadata": {
        "colab": {
          "base_uri": "https://localhost:8080/"
        },
        "id": "MMnoxjgEs42U",
        "outputId": "7e82babf-b64d-4e54-fbac-f03a81c3d7c3"
      },
      "execution_count": null,
      "outputs": [
        {
          "output_type": "stream",
          "name": "stdout",
          "text": [
            "<class 'pandas.core.frame.DataFrame'>\n",
            "Int64Index: 16 entries, 0 to 15\n",
            "Data columns (total 5 columns):\n",
            " #   Column           Non-Null Count  Dtype \n",
            "---  ------           --------------  ----- \n",
            " 0   Date             16 non-null     object\n",
            " 1   City             16 non-null     object\n",
            " 2   Pollution (AQI)  16 non-null     int64 \n",
            " 3   Temperature (C)  16 non-null     int64 \n",
            " 4   Rainfall (mm)    16 non-null     int64 \n",
            "dtypes: int64(3), object(2)\n",
            "memory usage: 768.0+ bytes\n"
          ]
        }
      ]
    },
    {
      "cell_type": "markdown",
      "source": [
        "# **Data Cleaning**"
      ],
      "metadata": {
        "id": "AqRQkjRss_zs"
      }
    },
    {
      "cell_type": "code",
      "source": [
        "f1 = pd.read_csv('/content/drive/MyDrive/data/Fortune_1000.csv')"
      ],
      "metadata": {
        "id": "B1BVHV8A5HlX"
      },
      "execution_count": null,
      "outputs": []
    },
    {
      "cell_type": "markdown",
      "source": [
        "1.Removing rows with empty values"
      ],
      "metadata": {
        "id": "bqUHlIo8tS2_"
      }
    },
    {
      "cell_type": "code",
      "source": [
        "f1.dropna()\n",
        "f1.dropna(subset=['Market Cap'], inplace = True) # Removing null value rows from a particular column"
      ],
      "metadata": {
        "id": "XzMqlka1tfpf"
      },
      "execution_count": null,
      "outputs": []
    },
    {
      "cell_type": "markdown",
      "source": [
        "2.Replace Empty Values"
      ],
      "metadata": {
        "id": "B7dT4_BKuR-6"
      }
    },
    {
      "cell_type": "code",
      "source": [
        "f1.fillna(30,inplace=True) # replacing all values across the dataframe "
      ],
      "metadata": {
        "id": "vaG2vbYHuvK_"
      },
      "execution_count": null,
      "outputs": []
    },
    {
      "cell_type": "code",
      "source": [
        "f1[\"Market Cap\"].fillna(50000,inplace=True) # replacing values only for specified column"
      ],
      "metadata": {
        "id": "X_NTpbc97sux"
      },
      "execution_count": null,
      "outputs": []
    },
    {
      "cell_type": "markdown",
      "source": [
        "3.Replacing null values using mean, medain, mode"
      ],
      "metadata": {
        "id": "mIY1O7Z3vSjT"
      }
    },
    {
      "cell_type": "code",
      "source": [
        "f2 = pd.read_csv('/content/drive/MyDrive/data/dirtydata.csv')"
      ],
      "metadata": {
        "id": "MTp8wieM6_SC"
      },
      "execution_count": null,
      "outputs": []
    },
    {
      "cell_type": "code",
      "source": [
        "# mean\n",
        "x=f2[\"Calories\"].mean()\n",
        "f2[\"Calories\"].fillna(x,inplace=True)\n",
        "\n",
        "# median\n",
        "x=f2[\"Calories\"].median()\n",
        "f2[\"Calories\"].fillna(x,inplace=True)\n",
        "\n",
        "# mode\n",
        "x=f2[\"Calories\"].mode()\n",
        "f2[\"Calories\"].fillna(x,inplace=True)"
      ],
      "metadata": {
        "id": "XnoSl_OxwbTi"
      },
      "execution_count": null,
      "outputs": []
    }
  ]
}
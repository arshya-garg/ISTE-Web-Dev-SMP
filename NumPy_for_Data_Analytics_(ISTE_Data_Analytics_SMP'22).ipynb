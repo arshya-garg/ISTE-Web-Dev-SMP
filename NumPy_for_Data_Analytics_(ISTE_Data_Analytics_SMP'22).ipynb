{
  "nbformat": 4,
  "nbformat_minor": 0,
  "metadata": {
    "colab": {
      "name": "NumPy for Data Analytics (ISTE Data Analytics SMP'22).ipynb",
      "provenance": [],
      "collapsed_sections": [],
      "include_colab_link": true
    },
    "kernelspec": {
      "name": "python3",
      "display_name": "Python 3"
    },
    "language_info": {
      "name": "python"
    }
  },
  "cells": [
    {
      "cell_type": "markdown",
      "metadata": {
        "id": "view-in-github",
        "colab_type": "text"
      },
      "source": [
        "<a href=\"https://colab.research.google.com/github/arshya-garg/ISTE-Web-Dev-SMP/blob/main/NumPy_for_Data_Analytics_(ISTE_Data_Analytics_SMP'22).ipynb\" target=\"_parent\"><img src=\"https://colab.research.google.com/assets/colab-badge.svg\" alt=\"Open In Colab\"/></a>"
      ]
    },
    {
      "cell_type": "markdown",
      "source": [
        "#1. Markdown basics"
      ],
      "metadata": {
        "id": "AStpAUWZ0SPJ"
      }
    },
    {
      "cell_type": "markdown",
      "source": [
        "##Heading\n",
        "\n",
        "\n",
        "```\n",
        "#Text (No. of '#' used indicates heading levels h1 to h6)\n",
        "```\n",
        "\n",
        "\n",
        "*italics*\n",
        "\n",
        "\n",
        "```\n",
        "*Text*\n",
        "```\n",
        "\n",
        "\n",
        "**b o l d**\n",
        "\n",
        "\n",
        "```\n",
        "**Text**\n",
        "```\n",
        "\n"
      ],
      "metadata": {
        "id": "hIOw6ZkLweIK"
      }
    },
    {
      "cell_type": "markdown",
      "source": [
        "#2.   Creating NumPy arrays\n",
        "\n"
      ],
      "metadata": {
        "id": "gkfl_DgKCxuZ"
      }
    },
    {
      "cell_type": "code",
      "source": [
        "import numpy as np"
      ],
      "metadata": {
        "id": "VH1FqSaEwc3x"
      },
      "execution_count": null,
      "outputs": []
    },
    {
      "cell_type": "code",
      "source": [
        "arr = np.array([1,2,3], np.int8)\n",
        "arr"
      ],
      "metadata": {
        "colab": {
          "base_uri": "https://localhost:8080/"
        },
        "id": "WAFX0_n4yTHk",
        "outputId": "aa956977-ccc8-454b-d174-ceb667fcfd78"
      },
      "execution_count": null,
      "outputs": [
        {
          "output_type": "execute_result",
          "data": {
            "text/plain": [
              "array([1, 2, 3], dtype=int8)"
            ]
          },
          "metadata": {},
          "execution_count": 2
        }
      ]
    },
    {
      "cell_type": "code",
      "source": [
        "A = np.array([[1.1, 2, 3], [3, 4, 5]]) # Array of floats, values will be 'upcasted'\n",
        "\n",
        "B = np.array([[1, 2.4 + 1.4j, 3], [3, 4, 5]], dtype = complex) # Array of complex numbers\n",
        "print(\"A: \", A, \"\\nB:  \",  B)\n"
      ],
      "metadata": {
        "colab": {
          "base_uri": "https://localhost:8080/"
        },
        "id": "FZWnc-EQ3AJv",
        "outputId": "ca68e524-319e-4416-ef0e-788973218145"
      },
      "execution_count": null,
      "outputs": [
        {
          "output_type": "stream",
          "name": "stdout",
          "text": [
            "A:  [[1.1 2.  3. ]\n",
            " [3.  4.  5. ]] \n",
            "B:   [[1. +0.j  2.4+1.4j 3. +0.j ]\n",
            " [3. +0.j  4. +0.j  5. +0.j ]]\n"
          ]
        }
      ]
    },
    {
      "cell_type": "code",
      "source": [
        "c = np.zeros( (2,4) )   # np.ones() as well\n",
        "print(c)"
      ],
      "metadata": {
        "colab": {
          "base_uri": "https://localhost:8080/"
        },
        "id": "XpC5A10Z3Cla",
        "outputId": "cb446350-9dc8-4cbd-c977-1cec60d6da40"
      },
      "execution_count": null,
      "outputs": [
        {
          "output_type": "stream",
          "name": "stdout",
          "text": [
            "[[0. 0. 0. 0.]\n",
            " [0. 0. 0. 0.]]\n"
          ]
        }
      ]
    },
    {
      "cell_type": "code",
      "source": [
        "arr2 = np.arange(1,10,2)\n",
        "arr2"
      ],
      "metadata": {
        "colab": {
          "base_uri": "https://localhost:8080/"
        },
        "id": "nK_5HP4_IoR0",
        "outputId": "9eb4eff7-c155-4a4a-88e0-7d33cdd00659"
      },
      "execution_count": null,
      "outputs": [
        {
          "output_type": "execute_result",
          "data": {
            "text/plain": [
              "array([1, 3, 5, 7, 9])"
            ]
          },
          "metadata": {},
          "execution_count": 5
        }
      ]
    },
    {
      "cell_type": "code",
      "source": [
        "ls = np.linspace(1,11,3)\n",
        "ls"
      ],
      "metadata": {
        "colab": {
          "base_uri": "https://localhost:8080/"
        },
        "id": "cDvfZ8QbDPJh",
        "outputId": "281b5efc-fc3d-4a79-f442-c05618a2ed33"
      },
      "execution_count": null,
      "outputs": [
        {
          "output_type": "execute_result",
          "data": {
            "text/plain": [
              "array([ 1.,  6., 11.])"
            ]
          },
          "metadata": {},
          "execution_count": 6
        }
      ]
    },
    {
      "cell_type": "code",
      "source": [
        "matrix = np.empty(shape=(2,5), dtype= np.int8)\n",
        "print(matrix)\n",
        "help(np.empty)    # Python function"
      ],
      "metadata": {
        "colab": {
          "base_uri": "https://localhost:8080/"
        },
        "id": "dyTbCmbuI9Yy",
        "outputId": "c32bb621-5100-4ce0-aa49-46dfe43f9f52"
      },
      "execution_count": null,
      "outputs": [
        {
          "output_type": "stream",
          "name": "stdout",
          "text": [
            "[[-48 -17  50   1   0]\n",
            " [  0   0   0   0   0]]\n",
            "Help on built-in function empty in module numpy:\n",
            "\n",
            "empty(...)\n",
            "    empty(shape, dtype=float, order='C', *, like=None)\n",
            "    \n",
            "    Return a new array of given shape and type, without initializing entries.\n",
            "    \n",
            "    Parameters\n",
            "    ----------\n",
            "    shape : int or tuple of int\n",
            "        Shape of the empty array, e.g., ``(2, 3)`` or ``2``.\n",
            "    dtype : data-type, optional\n",
            "        Desired output data-type for the array, e.g, `numpy.int8`. Default is\n",
            "        `numpy.float64`.\n",
            "    order : {'C', 'F'}, optional, default: 'C'\n",
            "        Whether to store multi-dimensional data in row-major\n",
            "        (C-style) or column-major (Fortran-style) order in\n",
            "        memory.\n",
            "    like : array_like\n",
            "        Reference object to allow the creation of arrays which are not\n",
            "        NumPy arrays. If an array-like passed in as ``like`` supports\n",
            "        the ``__array_function__`` protocol, the result will be defined\n",
            "        by it. In this case, it ensures the creation of an array object\n",
            "        compatible with that passed in via this argument.\n",
            "    \n",
            "        .. versionadded:: 1.20.0\n",
            "    \n",
            "    Returns\n",
            "    -------\n",
            "    out : ndarray\n",
            "        Array of uninitialized (arbitrary) data of the given shape, dtype, and\n",
            "        order.  Object arrays will be initialized to None.\n",
            "    \n",
            "    See Also\n",
            "    --------\n",
            "    empty_like : Return an empty array with shape and type of input.\n",
            "    ones : Return a new array setting values to one.\n",
            "    zeros : Return a new array setting values to zero.\n",
            "    full : Return a new array of given shape filled with value.\n",
            "    \n",
            "    \n",
            "    Notes\n",
            "    -----\n",
            "    `empty`, unlike `zeros`, does not set the array values to zero,\n",
            "    and may therefore be marginally faster.  On the other hand, it requires\n",
            "    the user to manually set all the values in the array, and should be\n",
            "    used with caution.\n",
            "    \n",
            "    Examples\n",
            "    --------\n",
            "    >>> np.empty([2, 2])\n",
            "    array([[ -9.74499359e+001,   6.69583040e-309],\n",
            "           [  2.13182611e-314,   3.06959433e-309]])         #uninitialized\n",
            "    \n",
            "    >>> np.empty([2, 2], dtype=int)\n",
            "    array([[-1073741821, -1067949133],\n",
            "           [  496041986,    19249760]])                     #uninitialized\n",
            "\n"
          ]
        }
      ]
    },
    {
      "cell_type": "code",
      "source": [
        "matrix2 = np.empty_like(matrix)\n",
        "matrix2"
      ],
      "metadata": {
        "colab": {
          "base_uri": "https://localhost:8080/"
        },
        "id": "_5ckI_t7EH47",
        "outputId": "1c4bfb66-4d12-4c18-92b1-8c376641da7f"
      },
      "execution_count": null,
      "outputs": [
        {
          "output_type": "execute_result",
          "data": {
            "text/plain": [
              "array([[-32, -17,  50,   1,   0],\n",
              "       [  0,   0,   0,   0,   0]], dtype=int8)"
            ]
          },
          "metadata": {},
          "execution_count": 8
        }
      ]
    },
    {
      "cell_type": "code",
      "source": [
        "i_matrix = np.identity(4)\n",
        "i_matrix"
      ],
      "metadata": {
        "colab": {
          "base_uri": "https://localhost:8080/"
        },
        "id": "SkCXnlwVEjMp",
        "outputId": "c1647340-3c41-485e-8d22-c5a12579741d"
      },
      "execution_count": null,
      "outputs": [
        {
          "output_type": "execute_result",
          "data": {
            "text/plain": [
              "array([[1., 0., 0., 0.],\n",
              "       [0., 1., 0., 0.],\n",
              "       [0., 0., 1., 0.],\n",
              "       [0., 0., 0., 1.]])"
            ]
          },
          "metadata": {},
          "execution_count": 9
        }
      ]
    },
    {
      "cell_type": "code",
      "source": [
        "matrix.shape  #Returns a tuple"
      ],
      "metadata": {
        "colab": {
          "base_uri": "https://localhost:8080/"
        },
        "id": "xJ9DsqKA40o9",
        "outputId": "c25f2d2d-4f41-4e54-8d72-202642b545f8"
      },
      "execution_count": null,
      "outputs": [
        {
          "output_type": "execute_result",
          "data": {
            "text/plain": [
              "(2, 5)"
            ]
          },
          "metadata": {},
          "execution_count": 10
        }
      ]
    },
    {
      "cell_type": "code",
      "source": [
        "matrix.size"
      ],
      "metadata": {
        "colab": {
          "base_uri": "https://localhost:8080/"
        },
        "id": "E3WL8iIy4_-1",
        "outputId": "46300706-f7df-4c2b-e12b-bf71bbf53d2c"
      },
      "execution_count": null,
      "outputs": [
        {
          "output_type": "execute_result",
          "data": {
            "text/plain": [
              "10"
            ]
          },
          "metadata": {},
          "execution_count": 11
        }
      ]
    },
    {
      "cell_type": "code",
      "source": [
        "c.dtype"
      ],
      "metadata": {
        "colab": {
          "base_uri": "https://localhost:8080/"
        },
        "id": "2Lnw823j5ClT",
        "outputId": "77f0d4fe-07dc-4b16-8c78-b8151a9597c8"
      },
      "execution_count": null,
      "outputs": [
        {
          "output_type": "execute_result",
          "data": {
            "text/plain": [
              "dtype('float64')"
            ]
          },
          "metadata": {},
          "execution_count": 12
        }
      ]
    },
    {
      "cell_type": "code",
      "source": [
        "A = A.reshape(3,2)    # m*n must be same\n",
        "A"
      ],
      "metadata": {
        "colab": {
          "base_uri": "https://localhost:8080/"
        },
        "id": "x-4LmxoYFE4X",
        "outputId": "f6126693-3f07-4b45-cb75-f01ab1270370"
      },
      "execution_count": null,
      "outputs": [
        {
          "output_type": "execute_result",
          "data": {
            "text/plain": [
              "array([[1.1, 2. ],\n",
              "       [3. , 3. ],\n",
              "       [4. , 5. ]])"
            ]
          },
          "metadata": {},
          "execution_count": 13
        }
      ]
    },
    {
      "cell_type": "code",
      "source": [
        "A = A.ravel()   # A.ravel() without assignment?\n",
        "A.shape"
      ],
      "metadata": {
        "colab": {
          "base_uri": "https://localhost:8080/"
        },
        "id": "PYqaseb2Fav7",
        "outputId": "8116bc04-8f59-4a99-9c54-121bbbafb05a"
      },
      "execution_count": null,
      "outputs": [
        {
          "output_type": "execute_result",
          "data": {
            "text/plain": [
              "(6,)"
            ]
          },
          "metadata": {},
          "execution_count": 14
        }
      ]
    },
    {
      "cell_type": "markdown",
      "source": [
        "#3. Some methods and attributes"
      ],
      "metadata": {
        "id": "XxJ6lh0aDPko"
      }
    },
    {
      "cell_type": "code",
      "source": [
        "x = [[10,2], [3,4], [5,6]]\n",
        "arr_x = np.array(x)\n",
        "arr_x"
      ],
      "metadata": {
        "colab": {
          "base_uri": "https://localhost:8080/"
        },
        "id": "TUytj-dzGcuR",
        "outputId": "2abd4faa-abea-4c1f-856b-0360506fa9fb"
      },
      "execution_count": null,
      "outputs": [
        {
          "output_type": "execute_result",
          "data": {
            "text/plain": [
              "array([[10,  2],\n",
              "       [ 3,  4],\n",
              "       [ 5,  6]])"
            ]
          },
          "metadata": {},
          "execution_count": 15
        }
      ]
    },
    {
      "cell_type": "markdown",
      "source": [
        "###3.1. Attributes"
      ],
      "metadata": {
        "id": "OJeWqeIAEBu_"
      }
    },
    {
      "cell_type": "code",
      "source": [
        "arr_x.T"
      ],
      "metadata": {
        "colab": {
          "base_uri": "https://localhost:8080/"
        },
        "id": "XE7exKAmHBXt",
        "outputId": "619b790c-26dd-4d76-8145-3eebb329b6f1"
      },
      "execution_count": null,
      "outputs": [
        {
          "output_type": "execute_result",
          "data": {
            "text/plain": [
              "array([[10,  3,  5],\n",
              "       [ 2,  4,  6]])"
            ]
          },
          "metadata": {},
          "execution_count": 16
        }
      ]
    },
    {
      "cell_type": "code",
      "source": [
        "arr_x.flat"
      ],
      "metadata": {
        "colab": {
          "base_uri": "https://localhost:8080/"
        },
        "id": "gIlD8dm5JmAg",
        "outputId": "a4dfa45c-73fb-448b-cb08-3e6f26b72683"
      },
      "execution_count": null,
      "outputs": [
        {
          "output_type": "execute_result",
          "data": {
            "text/plain": [
              "<numpy.flatiter at 0x2362b00>"
            ]
          },
          "metadata": {},
          "execution_count": 17
        }
      ]
    },
    {
      "cell_type": "code",
      "source": [
        "for i in arr_x.flat:\n",
        "  print(i)"
      ],
      "metadata": {
        "colab": {
          "base_uri": "https://localhost:8080/"
        },
        "id": "TzjOIE-yJpcq",
        "outputId": "957a6286-eae6-4c91-c83e-bf82e4742979"
      },
      "execution_count": null,
      "outputs": [
        {
          "output_type": "stream",
          "name": "stdout",
          "text": [
            "10\n",
            "2\n",
            "3\n",
            "4\n",
            "5\n",
            "6\n"
          ]
        }
      ]
    },
    {
      "cell_type": "code",
      "source": [
        "arr_x.ndim    # Dimensions of array"
      ],
      "metadata": {
        "colab": {
          "base_uri": "https://localhost:8080/"
        },
        "id": "nHn26xrKJ4S_",
        "outputId": "17870544-e44a-4cc4-832a-e691f82cf795"
      },
      "execution_count": null,
      "outputs": [
        {
          "output_type": "execute_result",
          "data": {
            "text/plain": [
              "2"
            ]
          },
          "metadata": {},
          "execution_count": 19
        }
      ]
    },
    {
      "cell_type": "code",
      "source": [
        "arr_x.nbytes"
      ],
      "metadata": {
        "colab": {
          "base_uri": "https://localhost:8080/"
        },
        "id": "VQqnAiQbKJ3F",
        "outputId": "bf4068b1-fc68-4f41-9329-35def8e98dfc"
      },
      "execution_count": null,
      "outputs": [
        {
          "output_type": "execute_result",
          "data": {
            "text/plain": [
              "48"
            ]
          },
          "metadata": {},
          "execution_count": 20
        }
      ]
    },
    {
      "cell_type": "markdown",
      "source": [
        "###3.2. Methods"
      ],
      "metadata": {
        "id": "VlDUDTsQD8PQ"
      }
    },
    {
      "cell_type": "code",
      "source": [
        "print(arr_x.sum())\n",
        "arr_x.sum(axis=0)"
      ],
      "metadata": {
        "colab": {
          "base_uri": "https://localhost:8080/"
        },
        "id": "rrji8WWWGsv_",
        "outputId": "95497c9d-d9e2-4b67-a0f2-f7ce985553ee"
      },
      "execution_count": null,
      "outputs": [
        {
          "output_type": "stream",
          "name": "stdout",
          "text": [
            "30\n"
          ]
        },
        {
          "output_type": "execute_result",
          "data": {
            "text/plain": [
              "array([18, 12])"
            ]
          },
          "metadata": {},
          "execution_count": 21
        }
      ]
    },
    {
      "cell_type": "code",
      "source": [
        "A.argmax()    # argmin(), both return indices"
      ],
      "metadata": {
        "colab": {
          "base_uri": "https://localhost:8080/"
        },
        "id": "DT3FwJtRKd8v",
        "outputId": "2b6b5806-2f66-4635-a14f-d6abe7bdccc9"
      },
      "execution_count": null,
      "outputs": [
        {
          "output_type": "execute_result",
          "data": {
            "text/plain": [
              "5"
            ]
          },
          "metadata": {},
          "execution_count": 22
        }
      ]
    },
    {
      "cell_type": "code",
      "source": [
        "A.argsort()   # Also returns array of indices"
      ],
      "metadata": {
        "colab": {
          "base_uri": "https://localhost:8080/"
        },
        "id": "8VsRLfsUKsiz",
        "outputId": "20266363-c431-4822-a62b-c341f2d1a18a"
      },
      "execution_count": null,
      "outputs": [
        {
          "output_type": "execute_result",
          "data": {
            "text/plain": [
              "array([0, 1, 2, 3, 4, 5])"
            ]
          },
          "metadata": {},
          "execution_count": 23
        }
      ]
    },
    {
      "cell_type": "code",
      "source": [
        "arr_x.argmax()"
      ],
      "metadata": {
        "colab": {
          "base_uri": "https://localhost:8080/"
        },
        "id": "l58E4BBiLGbk",
        "outputId": "e0498e06-ccf3-41a3-8565-6f673b9b34b9"
      },
      "execution_count": null,
      "outputs": [
        {
          "output_type": "execute_result",
          "data": {
            "text/plain": [
              "0"
            ]
          },
          "metadata": {},
          "execution_count": 24
        }
      ]
    },
    {
      "cell_type": "code",
      "source": [
        "arr_x.argmin(axis=0)"
      ],
      "metadata": {
        "colab": {
          "base_uri": "https://localhost:8080/"
        },
        "id": "pT3RUNGMLYq8",
        "outputId": "9755c7a0-7029-4562-a9ce-21f0b82f6653"
      },
      "execution_count": null,
      "outputs": [
        {
          "output_type": "execute_result",
          "data": {
            "text/plain": [
              "array([1, 0])"
            ]
          },
          "metadata": {},
          "execution_count": 25
        }
      ]
    },
    {
      "cell_type": "code",
      "source": [
        "arr_x.argsort(axis=1)   # Sorts based on axis"
      ],
      "metadata": {
        "colab": {
          "base_uri": "https://localhost:8080/"
        },
        "id": "M4lfjzVgLo76",
        "outputId": "babe1f38-c55d-464d-d74d-fe267143f919"
      },
      "execution_count": null,
      "outputs": [
        {
          "output_type": "execute_result",
          "data": {
            "text/plain": [
              "array([[1, 0],\n",
              "       [0, 1],\n",
              "       [0, 1]])"
            ]
          },
          "metadata": {},
          "execution_count": 26
        }
      ]
    },
    {
      "cell_type": "markdown",
      "source": [
        "#4. NumPy Arrays vs Lists"
      ],
      "metadata": {
        "id": "JTmNvJPwNI6c"
      }
    },
    {
      "cell_type": "code",
      "source": [
        "[10, 20] + [1, 2]"
      ],
      "metadata": {
        "colab": {
          "base_uri": "https://localhost:8080/"
        },
        "id": "6tU1rRa1MTdV",
        "outputId": "ae81c360-dcf4-470a-8305-f48caf560d7d"
      },
      "execution_count": null,
      "outputs": [
        {
          "output_type": "execute_result",
          "data": {
            "text/plain": [
              "[10, 20, 1, 2]"
            ]
          },
          "metadata": {},
          "execution_count": 27
        }
      ]
    },
    {
      "cell_type": "code",
      "source": [
        "a1 = np.array([10, 20])\n",
        "a2 = np.array([1,2])\n",
        "a1+a2     # List-style appending can be done using vstack() / hstack()"
      ],
      "metadata": {
        "colab": {
          "base_uri": "https://localhost:8080/"
        },
        "id": "IoQZRVYbMvIP",
        "outputId": "6c3c2e0a-4d78-4d0f-b8fb-2f35fa66c26c"
      },
      "execution_count": null,
      "outputs": [
        {
          "output_type": "execute_result",
          "data": {
            "text/plain": [
              "array([11, 22])"
            ]
          },
          "metadata": {},
          "execution_count": 28
        }
      ]
    },
    {
      "cell_type": "code",
      "source": [
        "a1*a2   # Element-wise multiplication"
      ],
      "metadata": {
        "colab": {
          "base_uri": "https://localhost:8080/"
        },
        "id": "85ESN8QrNQ0z",
        "outputId": "bfa1ef90-b061-42a3-8e99-fd5cbd3690af"
      },
      "execution_count": null,
      "outputs": [
        {
          "output_type": "execute_result",
          "data": {
            "text/plain": [
              "array([10, 40])"
            ]
          },
          "metadata": {},
          "execution_count": 29
        }
      ]
    },
    {
      "cell_type": "code",
      "source": [
        "print(np.sqrt(a2))    # std() gives standard deviation\n",
        "print(np.max(A))\n",
        "print(np.min(A))\n",
        "print(np.sum(A))\n",
        "print(A)"
      ],
      "metadata": {
        "colab": {
          "base_uri": "https://localhost:8080/"
        },
        "id": "Pn3MHs_QNVeO",
        "outputId": "0d00c504-d090-4417-ed02-db8897053770"
      },
      "execution_count": null,
      "outputs": [
        {
          "output_type": "stream",
          "name": "stdout",
          "text": [
            "[1.         1.41421356]\n",
            "5.0\n",
            "1.1\n",
            "18.1\n",
            "[1.1 2.  3.  3.  4.  5. ]\n"
          ]
        }
      ]
    },
    {
      "cell_type": "code",
      "source": [
        "B"
      ],
      "metadata": {
        "colab": {
          "base_uri": "https://localhost:8080/"
        },
        "id": "D48sYMkqN-jW",
        "outputId": "e1106551-18d5-4e49-f747-a3a29f1313eb"
      },
      "execution_count": null,
      "outputs": [
        {
          "output_type": "execute_result",
          "data": {
            "text/plain": [
              "array([[1. +0.j , 2.4+1.4j, 3. +0.j ],\n",
              "       [3. +0.j , 4. +0.j , 5. +0.j ]])"
            ]
          },
          "metadata": {},
          "execution_count": 31
        }
      ]
    },
    {
      "cell_type": "code",
      "source": [
        "np.where(B>=3)   # Returns tuple; check with type() function"
      ],
      "metadata": {
        "colab": {
          "base_uri": "https://localhost:8080/"
        },
        "id": "41waYiIPOBvJ",
        "outputId": "5c4f466b-07e7-4a1f-b1ac-48af059d839f"
      },
      "execution_count": null,
      "outputs": [
        {
          "output_type": "execute_result",
          "data": {
            "text/plain": [
              "(array([0, 1, 1, 1]), array([2, 0, 1, 2]))"
            ]
          },
          "metadata": {},
          "execution_count": 32
        }
      ]
    },
    {
      "cell_type": "code",
      "source": [
        "np.count_nonzero(arr_x)"
      ],
      "metadata": {
        "colab": {
          "base_uri": "https://localhost:8080/"
        },
        "id": "e9UjC8AvPNcy",
        "outputId": "7c6e8f76-2bd5-4110-e620-a6163ad9d222"
      },
      "execution_count": null,
      "outputs": [
        {
          "output_type": "execute_result",
          "data": {
            "text/plain": [
              "6"
            ]
          },
          "metadata": {},
          "execution_count": 33
        }
      ]
    },
    {
      "cell_type": "code",
      "source": [
        "np.nonzero(arr_x)   # Gives indices in two separate arrays (for each axis)"
      ],
      "metadata": {
        "colab": {
          "base_uri": "https://localhost:8080/"
        },
        "id": "E_ctEDmaPxzi",
        "outputId": "1a452c56-4722-4c37-f945-25ab750d760c"
      },
      "execution_count": null,
      "outputs": [
        {
          "output_type": "execute_result",
          "data": {
            "text/plain": [
              "(array([0, 0, 1, 1, 2, 2]), array([0, 1, 0, 1, 0, 1]))"
            ]
          },
          "metadata": {},
          "execution_count": 34
        }
      ]
    },
    {
      "cell_type": "markdown",
      "source": [
        "###4.1. Comparing storage"
      ],
      "metadata": {
        "id": "z_lhA2OsYMbo"
      }
    },
    {
      "cell_type": "code",
      "source": [
        "import sys  # Library which provides access to some variables used or maintained by the interpreter and to functions that interact strongly with the interpreter"
      ],
      "metadata": {
        "id": "zugi7zwVRYwC"
      },
      "execution_count": null,
      "outputs": []
    },
    {
      "cell_type": "code",
      "source": [
        "p_array = [1,2,3,4,5]\n",
        "n_array = np.array(p_array)\n",
        "print(p_array)\n",
        "print(n_array)"
      ],
      "metadata": {
        "colab": {
          "base_uri": "https://localhost:8080/"
        },
        "id": "eM2yNqxhTJ2w",
        "outputId": "ec40f3bb-a61b-4cbd-cd00-d4926b0c4fb0"
      },
      "execution_count": null,
      "outputs": [
        {
          "output_type": "stream",
          "name": "stdout",
          "text": [
            "[1, 2, 3, 4, 5]\n",
            "[1 2 3 4 5]\n"
          ]
        }
      ]
    },
    {
      "cell_type": "code",
      "source": [
        "sys.getsizeof(1) * len(p_array)   #getsizeof() takes element index as argument"
      ],
      "metadata": {
        "colab": {
          "base_uri": "https://localhost:8080/"
        },
        "id": "37xH6RI5TXeC",
        "outputId": "105bdc4f-8aeb-484a-ce53-df7444ac958c"
      },
      "execution_count": null,
      "outputs": [
        {
          "output_type": "execute_result",
          "data": {
            "text/plain": [
              "140"
            ]
          },
          "metadata": {},
          "execution_count": 37
        }
      ]
    },
    {
      "cell_type": "code",
      "source": [
        "n_array.itemsize * n_array.size"
      ],
      "metadata": {
        "colab": {
          "base_uri": "https://localhost:8080/"
        },
        "id": "xCQ_rLksTfRZ",
        "outputId": "49a8e4e2-0556-4b37-ea89-d15113303c90"
      },
      "execution_count": null,
      "outputs": [
        {
          "output_type": "execute_result",
          "data": {
            "text/plain": [
              "40"
            ]
          },
          "metadata": {},
          "execution_count": 38
        }
      ]
    },
    {
      "cell_type": "markdown",
      "source": [
        "# 5. Slicing"
      ],
      "metadata": {
        "id": "mDYsyjXeXUTC"
      }
    },
    {
      "cell_type": "code",
      "source": [
        "n_array.tolist()    # Method to return a Python list"
      ],
      "metadata": {
        "colab": {
          "base_uri": "https://localhost:8080/"
        },
        "id": "_kRJt1aYUE-x",
        "outputId": "2d44a2ce-251d-4cd2-fcf4-f80107517ea8"
      },
      "execution_count": null,
      "outputs": [
        {
          "output_type": "execute_result",
          "data": {
            "text/plain": [
              "[1, 2, 3, 4, 5]"
            ]
          },
          "metadata": {},
          "execution_count": 39
        }
      ]
    },
    {
      "cell_type": "code",
      "source": [
        "A = np.array([[1, 4, 5, 12, 14], \n",
        "    [-5, 8, 9, 0, 17],\n",
        "    [-6, 7, 11, 19, 21]])\n",
        "\n",
        "print(A[:2, :4], \"\\n\")  # two rows, four columns\n",
        "\n",
        "print(A[:1,], \"\\n\")  # first row, all columns\n",
        "\n",
        "print(A[:,2], \"\\n\")  # all rows, second column\n",
        "\n",
        "print(A[:, 2:5], \"\\n\")  # all rows, third to the fifth column\n",
        "\n",
        "print(A[::-1])"
      ],
      "metadata": {
        "colab": {
          "base_uri": "https://localhost:8080/"
        },
        "id": "8ViJjdIWXTyJ",
        "outputId": "f37c9421-74aa-414e-96ab-0c5eb1b21d18"
      },
      "execution_count": null,
      "outputs": [
        {
          "output_type": "stream",
          "name": "stdout",
          "text": [
            "[[ 1  4  5 12]\n",
            " [-5  8  9  0]] \n",
            "\n",
            "[[ 1  4  5 12 14]] \n",
            "\n",
            "[ 5  9 11] \n",
            "\n",
            "[[ 5 12 14]\n",
            " [ 9  0 17]\n",
            " [11 19 21]] \n",
            "\n",
            "[[-6  7 11 19 21]\n",
            " [-5  8  9  0 17]\n",
            " [ 1  4  5 12 14]]\n"
          ]
        }
      ]
    },
    {
      "cell_type": "markdown",
      "source": [
        "# 6. Renaming"
      ],
      "metadata": {
        "id": "MrHgMpYiSBCm"
      }
    },
    {
      "cell_type": "code",
      "source": [
        "import pandas as pd\n",
        "\n",
        "# Define a dictionary containing organ donor data \n",
        "data= {'Name':['Somya', 'Aditya', 'Pratham', 'Raj'], \n",
        "        'Age':[20, 19, 22, 18], \n",
        "       'Organ Donor':['Yes', 'No', 'No', 'Yes'],\n",
        "       'Blood Group':['AB+', 'O+', 'AB+', 'AB-']} \n",
        "\n",
        "# Convert the dictionary into DataFrame         \n",
        "df = pd.DataFrame(data, index = [0,1,2,3])\n",
        "\n",
        "# Display dataframe (without any change)\n",
        "print(df,'\\n')\n",
        "\n",
        "# Change all column names\n",
        "df.columns = ['First Name','Biological Age', 'Donor', 'BG']\n",
        "print(df,'\\n')\n"
      ],
      "metadata": {
        "colab": {
          "base_uri": "https://localhost:8080/"
        },
        "id": "vEqn2rb-SCI4",
        "outputId": "eda0a413-c628-4ec1-f37e-c2e12bc38cf8"
      },
      "execution_count": null,
      "outputs": [
        {
          "output_type": "stream",
          "name": "stdout",
          "text": [
            "      Name  Age Organ Donor Blood Group\n",
            "0    Somya   20         Yes         AB+\n",
            "1   Aditya   19          No          O+\n",
            "2  Pratham   22          No         AB+\n",
            "3      Raj   18         Yes         AB- \n",
            "\n",
            "  First Name  Biological Age Donor   BG\n",
            "0      Somya              20   Yes  AB+\n",
            "1     Aditya              19    No   O+\n",
            "2    Pratham              22    No  AB+\n",
            "3        Raj              18   Yes  AB- \n",
            "\n"
          ]
        }
      ]
    }
  ]
}